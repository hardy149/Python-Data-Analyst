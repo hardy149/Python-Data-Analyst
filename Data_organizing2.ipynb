{
 "cells": [
  {
   "cell_type": "markdown",
   "id": "49da8580",
   "metadata": {},
   "source": [
    "# 数据整理—分组聚合操作"
   ]
  },
  {
   "cell_type": "code",
   "execution_count": 1,
   "id": "9b35769b",
   "metadata": {},
   "outputs": [],
   "source": [
    "import pandas as pd\n",
    "import numpy as np"
   ]
  },
  {
   "cell_type": "markdown",
   "id": "dd11ea43",
   "metadata": {},
   "source": [
    "## 一、分组聚合运算"
   ]
  },
  {
   "cell_type": "code",
   "execution_count": 2,
   "id": "c97ff731",
   "metadata": {},
   "outputs": [
    {
     "data": {
      "text/html": [
       "<div>\n",
       "<style scoped>\n",
       "    .dataframe tbody tr th:only-of-type {\n",
       "        vertical-align: middle;\n",
       "    }\n",
       "\n",
       "    .dataframe tbody tr th {\n",
       "        vertical-align: top;\n",
       "    }\n",
       "\n",
       "    .dataframe thead th {\n",
       "        text-align: right;\n",
       "    }\n",
       "</style>\n",
       "<table border=\"1\" class=\"dataframe\">\n",
       "  <thead>\n",
       "    <tr style=\"text-align: right;\">\n",
       "      <th></th>\n",
       "      <th>分店编号</th>\n",
       "      <th>时间段</th>\n",
       "      <th>商品类别</th>\n",
       "      <th>销售额</th>\n",
       "      <th>销售数量</th>\n",
       "    </tr>\n",
       "  </thead>\n",
       "  <tbody>\n",
       "    <tr>\n",
       "      <th>0</th>\n",
       "      <td>001</td>\n",
       "      <td>2022Q1</td>\n",
       "      <td>生鲜食品</td>\n",
       "      <td>1500</td>\n",
       "      <td>105</td>\n",
       "    </tr>\n",
       "    <tr>\n",
       "      <th>1</th>\n",
       "      <td>002</td>\n",
       "      <td>2022Q1</td>\n",
       "      <td>生鲜食品</td>\n",
       "      <td>2000</td>\n",
       "      <td>84</td>\n",
       "    </tr>\n",
       "    <tr>\n",
       "      <th>2</th>\n",
       "      <td>001</td>\n",
       "      <td>2022Q1</td>\n",
       "      <td>休闲食品</td>\n",
       "      <td>3000</td>\n",
       "      <td>171</td>\n",
       "    </tr>\n",
       "    <tr>\n",
       "      <th>3</th>\n",
       "      <td>002</td>\n",
       "      <td>2022Q1</td>\n",
       "      <td>休闲食品</td>\n",
       "      <td>2500</td>\n",
       "      <td>162</td>\n",
       "    </tr>\n",
       "    <tr>\n",
       "      <th>4</th>\n",
       "      <td>001</td>\n",
       "      <td>2022Q2</td>\n",
       "      <td>生鲜食品</td>\n",
       "      <td>1800</td>\n",
       "      <td>67</td>\n",
       "    </tr>\n",
       "    <tr>\n",
       "      <th>5</th>\n",
       "      <td>002</td>\n",
       "      <td>2022Q2</td>\n",
       "      <td>生鲜食品</td>\n",
       "      <td>2200</td>\n",
       "      <td>150</td>\n",
       "    </tr>\n",
       "    <tr>\n",
       "      <th>6</th>\n",
       "      <td>001</td>\n",
       "      <td>2022Q2</td>\n",
       "      <td>休闲食品</td>\n",
       "      <td>3200</td>\n",
       "      <td>99</td>\n",
       "    </tr>\n",
       "    <tr>\n",
       "      <th>7</th>\n",
       "      <td>002</td>\n",
       "      <td>2022Q2</td>\n",
       "      <td>休闲食品</td>\n",
       "      <td>2700</td>\n",
       "      <td>57</td>\n",
       "    </tr>\n",
       "  </tbody>\n",
       "</table>\n",
       "</div>"
      ],
      "text/plain": [
       "  分店编号     时间段  商品类别   销售额  销售数量\n",
       "0  001  2022Q1  生鲜食品  1500   105\n",
       "1  002  2022Q1  生鲜食品  2000    84\n",
       "2  001  2022Q1  休闲食品  3000   171\n",
       "3  002  2022Q1  休闲食品  2500   162\n",
       "4  001  2022Q2  生鲜食品  1800    67\n",
       "5  002  2022Q2  生鲜食品  2200   150\n",
       "6  001  2022Q2  休闲食品  3200    99\n",
       "7  002  2022Q2  休闲食品  2700    57"
      ]
     },
     "execution_count": 2,
     "metadata": {},
     "output_type": "execute_result"
    }
   ],
   "source": [
    "#传入需要处理的数据\n",
    "df1 = pd.DataFrame({\n",
    "    '分店编号': ['001', '002', '001', '002', '001', '002', '001', '002'],\n",
    "    '时间段': ['2022Q1', '2022Q1', '2022Q1', '2022Q1', '2022Q2', '2022Q2', '2022Q2', '2022Q2'],\n",
    "    '商品类别': ['生鲜食品', '生鲜食品', '休闲食品', '休闲食品', '生鲜食品', '生鲜食品', '休闲食品', '休闲食品'],\n",
    "    '销售额': [1500, 2000, 3000, 2500, 1800, 2200, 3200, 2700],\n",
    "    '销售数量': [105,  84, 171, 162,  67, 150,  99,  57]\n",
    "})\n",
    "df1"
   ]
  },
  {
   "cell_type": "markdown",
   "id": "b68aa257",
   "metadata": {},
   "source": [
    "### 1.基本分组聚合运算"
   ]
  },
  {
   "cell_type": "markdown",
   "id": "4d66f338",
   "metadata": {},
   "source": [
    "#### （1）对dataframe进行分组操作"
   ]
  },
  {
   "cell_type": "code",
   "execution_count": 3,
   "id": "1678f0ee",
   "metadata": {},
   "outputs": [
    {
     "data": {
      "text/plain": [
       "<pandas.core.groupby.generic.DataFrameGroupBy object at 0x1127aa200>"
      ]
     },
     "execution_count": 3,
     "metadata": {},
     "output_type": "execute_result"
    }
   ],
   "source": [
    "#对df1按照“分店编号”进行分组——groupby方法\n",
    "df1.groupby(\"分店编号\")"
   ]
  },
  {
   "cell_type": "markdown",
   "id": "88087820",
   "metadata": {},
   "source": [
    "注：此时返回的并不是两个dataframe，而是已经按照“分店编号”划分好的两组数据对象"
   ]
  },
  {
   "cell_type": "markdown",
   "id": "637774dc",
   "metadata": {},
   "source": [
    "#### （2）对groupby分组的特定数据聚合运算"
   ]
  },
  {
   "cell_type": "code",
   "execution_count": 4,
   "id": "2c574546",
   "metadata": {},
   "outputs": [
    {
     "data": {
      "text/plain": [
       "分店编号\n",
       "001    3200\n",
       "002    2700\n",
       "Name: 销售额, dtype: int64"
      ]
     },
     "execution_count": 4,
     "metadata": {},
     "output_type": "execute_result"
    }
   ],
   "source": [
    "#对“分店编号”分组后的“销售额”进行求最大值\n",
    "df1.groupby(\"分店编号\")[\"销售额\"].max()"
   ]
  },
  {
   "cell_type": "code",
   "execution_count": 5,
   "id": "c21f6dee",
   "metadata": {},
   "outputs": [
    {
     "data": {
      "text/plain": [
       "分店编号\n",
       "001    1500\n",
       "002    2000\n",
       "Name: 销售额, dtype: int64"
      ]
     },
     "execution_count": 5,
     "metadata": {},
     "output_type": "execute_result"
    }
   ],
   "source": [
    "df1.groupby(\"分店编号\")[\"销售额\"].min()"
   ]
  },
  {
   "cell_type": "code",
   "execution_count": 6,
   "id": "2d5edd35",
   "metadata": {},
   "outputs": [
    {
     "data": {
      "text/plain": [
       "分店编号\n",
       "001    442\n",
       "002    453\n",
       "Name: 销售数量, dtype: int64"
      ]
     },
     "execution_count": 6,
     "metadata": {},
     "output_type": "execute_result"
    }
   ],
   "source": [
    "#对“分店编号”分组后的“销售数量”进行求和\n",
    "df1.groupby(\"分店编号\")[\"销售数量\"].sum()"
   ]
  },
  {
   "cell_type": "code",
   "execution_count": 7,
   "id": "656a2d90",
   "metadata": {},
   "outputs": [
    {
     "data": {
      "text/html": [
       "<div>\n",
       "<style scoped>\n",
       "    .dataframe tbody tr th:only-of-type {\n",
       "        vertical-align: middle;\n",
       "    }\n",
       "\n",
       "    .dataframe tbody tr th {\n",
       "        vertical-align: top;\n",
       "    }\n",
       "\n",
       "    .dataframe thead th {\n",
       "        text-align: right;\n",
       "    }\n",
       "</style>\n",
       "<table border=\"1\" class=\"dataframe\">\n",
       "  <thead>\n",
       "    <tr style=\"text-align: right;\">\n",
       "      <th></th>\n",
       "      <th>销售额</th>\n",
       "      <th>销售数量</th>\n",
       "    </tr>\n",
       "    <tr>\n",
       "      <th>分店编号</th>\n",
       "      <th></th>\n",
       "      <th></th>\n",
       "    </tr>\n",
       "  </thead>\n",
       "  <tbody>\n",
       "    <tr>\n",
       "      <th>001</th>\n",
       "      <td>2375.0</td>\n",
       "      <td>110.50</td>\n",
       "    </tr>\n",
       "    <tr>\n",
       "      <th>002</th>\n",
       "      <td>2350.0</td>\n",
       "      <td>113.25</td>\n",
       "    </tr>\n",
       "  </tbody>\n",
       "</table>\n",
       "</div>"
      ],
      "text/plain": [
       "         销售额    销售数量\n",
       "分店编号                \n",
       "001   2375.0  110.50\n",
       "002   2350.0  113.25"
      ]
     },
     "execution_count": 7,
     "metadata": {},
     "output_type": "execute_result"
    }
   ],
   "source": [
    "#对“分店编号”分组后的“销售额”和“销售数量”进行求平均值\n",
    "df1.groupby(\"分店编号\")[[\"销售额\", \"销售数量\"]].mean()"
   ]
  },
  {
   "cell_type": "markdown",
   "id": "454a4cea",
   "metadata": {},
   "source": [
    "补充：聚合函数有很多，除了上述还有：\n",
    "\n",
    "- count( )  得到元素数量\n",
    "- mean( )   得到所有元素平均值\n",
    "- median( ) 得到所有元素中位数\n",
    "- min( )    得到所有元素的最小值\n",
    "- max( )    得到所有元素的最大值\n",
    "- std( )    得到所有元素的标准差\n",
    "- var( )    得到所有元素的方差\n",
    "- prod( )   得到所有元素的积\n",
    "- sum( )    得到所有元素的和"
   ]
  },
  {
   "cell_type": "markdown",
   "id": "18cee998",
   "metadata": {},
   "source": [
    "#### （3）对dataframe进行多类分组并进行聚合运算"
   ]
  },
  {
   "cell_type": "code",
   "execution_count": 8,
   "id": "b36aa407",
   "metadata": {},
   "outputs": [
    {
     "data": {
      "text/html": [
       "<div>\n",
       "<style scoped>\n",
       "    .dataframe tbody tr th:only-of-type {\n",
       "        vertical-align: middle;\n",
       "    }\n",
       "\n",
       "    .dataframe tbody tr th {\n",
       "        vertical-align: top;\n",
       "    }\n",
       "\n",
       "    .dataframe thead th {\n",
       "        text-align: right;\n",
       "    }\n",
       "</style>\n",
       "<table border=\"1\" class=\"dataframe\">\n",
       "  <thead>\n",
       "    <tr style=\"text-align: right;\">\n",
       "      <th></th>\n",
       "      <th></th>\n",
       "      <th>销售额</th>\n",
       "      <th>销售数量</th>\n",
       "    </tr>\n",
       "    <tr>\n",
       "      <th>分店编号</th>\n",
       "      <th>时间段</th>\n",
       "      <th></th>\n",
       "      <th></th>\n",
       "    </tr>\n",
       "  </thead>\n",
       "  <tbody>\n",
       "    <tr>\n",
       "      <th rowspan=\"2\" valign=\"top\">001</th>\n",
       "      <th>2022Q1</th>\n",
       "      <td>2250.0</td>\n",
       "      <td>138.0</td>\n",
       "    </tr>\n",
       "    <tr>\n",
       "      <th>2022Q2</th>\n",
       "      <td>2500.0</td>\n",
       "      <td>83.0</td>\n",
       "    </tr>\n",
       "    <tr>\n",
       "      <th rowspan=\"2\" valign=\"top\">002</th>\n",
       "      <th>2022Q1</th>\n",
       "      <td>2250.0</td>\n",
       "      <td>123.0</td>\n",
       "    </tr>\n",
       "    <tr>\n",
       "      <th>2022Q2</th>\n",
       "      <td>2450.0</td>\n",
       "      <td>103.5</td>\n",
       "    </tr>\n",
       "  </tbody>\n",
       "</table>\n",
       "</div>"
      ],
      "text/plain": [
       "                销售额   销售数量\n",
       "分店编号 时间段                  \n",
       "001  2022Q1  2250.0  138.0\n",
       "     2022Q2  2500.0   83.0\n",
       "002  2022Q1  2250.0  123.0\n",
       "     2022Q2  2450.0  103.5"
      ]
     },
     "execution_count": 8,
     "metadata": {},
     "output_type": "execute_result"
    }
   ],
   "source": [
    "#对df1按照“分店编号”和“时间段”进行分组，并计算“销售额”和“销售数量”的平均值\n",
    "df1.groupby([\"分店编号\", \"时间段\"])[[\"销售额\", \"销售数量\"]].mean()"
   ]
  },
  {
   "cell_type": "markdown",
   "id": "70522df6",
   "metadata": {},
   "source": [
    "#### （4）自定义聚合运算"
   ]
  },
  {
   "cell_type": "code",
   "execution_count": 46,
   "id": "b0325684",
   "metadata": {},
   "outputs": [],
   "source": [
    "#定义计算最大值与最小值的平均值的函数\n",
    "def mean_max_min(nums): \n",
    "    return (nums.max() + nums.min())/2"
   ]
  },
  {
   "cell_type": "code",
   "execution_count": 47,
   "id": "b9c5f2bb",
   "metadata": {},
   "outputs": [
    {
     "data": {
      "text/plain": [
       "2350.0"
      ]
     },
     "execution_count": 47,
     "metadata": {},
     "output_type": "execute_result"
    }
   ],
   "source": [
    "mean_max_min(df1[\"销售额\"])"
   ]
  },
  {
   "cell_type": "code",
   "execution_count": 49,
   "id": "b15bfe7c",
   "metadata": {
    "scrolled": true
   },
   "outputs": [
    {
     "data": {
      "text/html": [
       "<div>\n",
       "<style scoped>\n",
       "    .dataframe tbody tr th:only-of-type {\n",
       "        vertical-align: middle;\n",
       "    }\n",
       "\n",
       "    .dataframe tbody tr th {\n",
       "        vertical-align: top;\n",
       "    }\n",
       "\n",
       "    .dataframe thead th {\n",
       "        text-align: right;\n",
       "    }\n",
       "</style>\n",
       "<table border=\"1\" class=\"dataframe\">\n",
       "  <thead>\n",
       "    <tr style=\"text-align: right;\">\n",
       "      <th></th>\n",
       "      <th></th>\n",
       "      <th>销售额</th>\n",
       "      <th>销售数量</th>\n",
       "    </tr>\n",
       "    <tr>\n",
       "      <th>分店编号</th>\n",
       "      <th>时间段</th>\n",
       "      <th></th>\n",
       "      <th></th>\n",
       "    </tr>\n",
       "  </thead>\n",
       "  <tbody>\n",
       "    <tr>\n",
       "      <th rowspan=\"2\" valign=\"top\">001</th>\n",
       "      <th>2022Q1</th>\n",
       "      <td>2250.0</td>\n",
       "      <td>138.0</td>\n",
       "    </tr>\n",
       "    <tr>\n",
       "      <th>2022Q2</th>\n",
       "      <td>2500.0</td>\n",
       "      <td>83.0</td>\n",
       "    </tr>\n",
       "    <tr>\n",
       "      <th rowspan=\"2\" valign=\"top\">002</th>\n",
       "      <th>2022Q1</th>\n",
       "      <td>2250.0</td>\n",
       "      <td>123.0</td>\n",
       "    </tr>\n",
       "    <tr>\n",
       "      <th>2022Q2</th>\n",
       "      <td>2450.0</td>\n",
       "      <td>103.5</td>\n",
       "    </tr>\n",
       "  </tbody>\n",
       "</table>\n",
       "</div>"
      ],
      "text/plain": [
       "                销售额   销售数量\n",
       "分店编号 时间段                  \n",
       "001  2022Q1  2250.0  138.0\n",
       "     2022Q2  2500.0   83.0\n",
       "002  2022Q1  2250.0  123.0\n",
       "     2022Q2  2450.0  103.5"
      ]
     },
     "execution_count": 49,
     "metadata": {},
     "output_type": "execute_result"
    }
   ],
   "source": [
    "#对df1按照“分店编号”和“时间段”进行分组，并运用自定义函数（分别计算“销售额”和“销售数量”最大最小值的平均值）\n",
    "df1.groupby([\"分店编号\",\"时间段\"])[[\"销售额\", \"销售数量\"]].apply(mean_max_min)"
   ]
  },
  {
   "cell_type": "markdown",
   "id": "4a9d1c21",
   "metadata": {},
   "source": [
    "注：对df1采用group函数后再使用apply方法调用定义的函数"
   ]
  },
  {
   "cell_type": "markdown",
   "id": "c32b1601",
   "metadata": {},
   "source": [
    "## 二、数据透视表"
   ]
  },
  {
   "cell_type": "markdown",
   "id": "e8483e38",
   "metadata": {},
   "source": [
    "#### 数据透视表：基于原始数据表对其结构进行重塑，更直观地得到想要的数据信息"
   ]
  },
  {
   "cell_type": "markdown",
   "id": "d9e07d62",
   "metadata": {},
   "source": [
    "    pd.pivot_table( dataframe，index= \"索引名\"，columns= \"列名\"，values= \"值\"，aggfunc= “函数” )"
   ]
  },
  {
   "cell_type": "code",
   "execution_count": 51,
   "id": "e77e131b",
   "metadata": {},
   "outputs": [
    {
     "data": {
      "text/html": [
       "<div>\n",
       "<style scoped>\n",
       "    .dataframe tbody tr th:only-of-type {\n",
       "        vertical-align: middle;\n",
       "    }\n",
       "\n",
       "    .dataframe tbody tr th {\n",
       "        vertical-align: top;\n",
       "    }\n",
       "\n",
       "    .dataframe thead th {\n",
       "        text-align: right;\n",
       "    }\n",
       "</style>\n",
       "<table border=\"1\" class=\"dataframe\">\n",
       "  <thead>\n",
       "    <tr style=\"text-align: right;\">\n",
       "      <th></th>\n",
       "      <th>分店编号</th>\n",
       "      <th>时间段</th>\n",
       "      <th>商品类别</th>\n",
       "      <th>销售额</th>\n",
       "      <th>销售数量</th>\n",
       "    </tr>\n",
       "  </thead>\n",
       "  <tbody>\n",
       "    <tr>\n",
       "      <th>0</th>\n",
       "      <td>001</td>\n",
       "      <td>2022Q1</td>\n",
       "      <td>生鲜食品</td>\n",
       "      <td>1500</td>\n",
       "      <td>105</td>\n",
       "    </tr>\n",
       "    <tr>\n",
       "      <th>1</th>\n",
       "      <td>002</td>\n",
       "      <td>2022Q1</td>\n",
       "      <td>生鲜食品</td>\n",
       "      <td>2000</td>\n",
       "      <td>84</td>\n",
       "    </tr>\n",
       "    <tr>\n",
       "      <th>2</th>\n",
       "      <td>001</td>\n",
       "      <td>2022Q1</td>\n",
       "      <td>休闲食品</td>\n",
       "      <td>3000</td>\n",
       "      <td>171</td>\n",
       "    </tr>\n",
       "    <tr>\n",
       "      <th>3</th>\n",
       "      <td>002</td>\n",
       "      <td>2022Q1</td>\n",
       "      <td>休闲食品</td>\n",
       "      <td>2500</td>\n",
       "      <td>162</td>\n",
       "    </tr>\n",
       "    <tr>\n",
       "      <th>4</th>\n",
       "      <td>001</td>\n",
       "      <td>2022Q2</td>\n",
       "      <td>生鲜食品</td>\n",
       "      <td>1800</td>\n",
       "      <td>67</td>\n",
       "    </tr>\n",
       "    <tr>\n",
       "      <th>5</th>\n",
       "      <td>002</td>\n",
       "      <td>2022Q2</td>\n",
       "      <td>生鲜食品</td>\n",
       "      <td>2200</td>\n",
       "      <td>150</td>\n",
       "    </tr>\n",
       "    <tr>\n",
       "      <th>6</th>\n",
       "      <td>001</td>\n",
       "      <td>2022Q2</td>\n",
       "      <td>休闲食品</td>\n",
       "      <td>3200</td>\n",
       "      <td>99</td>\n",
       "    </tr>\n",
       "    <tr>\n",
       "      <th>7</th>\n",
       "      <td>002</td>\n",
       "      <td>2022Q2</td>\n",
       "      <td>休闲食品</td>\n",
       "      <td>2700</td>\n",
       "      <td>57</td>\n",
       "    </tr>\n",
       "  </tbody>\n",
       "</table>\n",
       "</div>"
      ],
      "text/plain": [
       "  分店编号     时间段  商品类别   销售额  销售数量\n",
       "0  001  2022Q1  生鲜食品  1500   105\n",
       "1  002  2022Q1  生鲜食品  2000    84\n",
       "2  001  2022Q1  休闲食品  3000   171\n",
       "3  002  2022Q1  休闲食品  2500   162\n",
       "4  001  2022Q2  生鲜食品  1800    67\n",
       "5  002  2022Q2  生鲜食品  2200   150\n",
       "6  001  2022Q2  休闲食品  3200    99\n",
       "7  002  2022Q2  休闲食品  2700    57"
      ]
     },
     "execution_count": 51,
     "metadata": {},
     "output_type": "execute_result"
    }
   ],
   "source": [
    "df1"
   ]
  },
  {
   "cell_type": "code",
   "execution_count": 53,
   "id": "0c5be2ea",
   "metadata": {},
   "outputs": [
    {
     "name": "stderr",
     "output_type": "stream",
     "text": [
      "/var/folders/c5/wl5020591lz1g_q4qbdlp4b80000gn/T/ipykernel_16335/2784390098.py:2: FutureWarning: The provided callable <function sum at 0x10438b400> is currently using DataFrameGroupBy.sum. In a future version of pandas, the provided callable will be used directly. To keep current behavior pass the string \"sum\" instead.\n",
      "  pd.pivot_table(df1, index=[\"时间段\", \"分店编号\"], columns=\"商品类别\", values=\"销售额\", aggfunc=np.sum)\n"
     ]
    },
    {
     "data": {
      "text/html": [
       "<div>\n",
       "<style scoped>\n",
       "    .dataframe tbody tr th:only-of-type {\n",
       "        vertical-align: middle;\n",
       "    }\n",
       "\n",
       "    .dataframe tbody tr th {\n",
       "        vertical-align: top;\n",
       "    }\n",
       "\n",
       "    .dataframe thead th {\n",
       "        text-align: right;\n",
       "    }\n",
       "</style>\n",
       "<table border=\"1\" class=\"dataframe\">\n",
       "  <thead>\n",
       "    <tr style=\"text-align: right;\">\n",
       "      <th></th>\n",
       "      <th>商品类别</th>\n",
       "      <th>休闲食品</th>\n",
       "      <th>生鲜食品</th>\n",
       "    </tr>\n",
       "    <tr>\n",
       "      <th>时间段</th>\n",
       "      <th>分店编号</th>\n",
       "      <th></th>\n",
       "      <th></th>\n",
       "    </tr>\n",
       "  </thead>\n",
       "  <tbody>\n",
       "    <tr>\n",
       "      <th rowspan=\"2\" valign=\"top\">2022Q1</th>\n",
       "      <th>001</th>\n",
       "      <td>3000</td>\n",
       "      <td>1500</td>\n",
       "    </tr>\n",
       "    <tr>\n",
       "      <th>002</th>\n",
       "      <td>2500</td>\n",
       "      <td>2000</td>\n",
       "    </tr>\n",
       "    <tr>\n",
       "      <th rowspan=\"2\" valign=\"top\">2022Q2</th>\n",
       "      <th>001</th>\n",
       "      <td>3200</td>\n",
       "      <td>1800</td>\n",
       "    </tr>\n",
       "    <tr>\n",
       "      <th>002</th>\n",
       "      <td>2700</td>\n",
       "      <td>2200</td>\n",
       "    </tr>\n",
       "  </tbody>\n",
       "</table>\n",
       "</div>"
      ],
      "text/plain": [
       "商品类别         休闲食品  生鲜食品\n",
       "时间段    分店编号            \n",
       "2022Q1 001   3000  1500\n",
       "       002   2500  2000\n",
       "2022Q2 001   3200  1800\n",
       "       002   2700  2200"
      ]
     },
     "execution_count": 53,
     "metadata": {},
     "output_type": "execute_result"
    }
   ],
   "source": [
    "#对df1以“时间段”和“分店编号”作为索引，“商品类别”作为列，计算“销售额”的总和\n",
    "pd.pivot_table(df1, index=[\"时间段\", \"分店编号\"], columns=\"商品类别\", values=\"销售额\", aggfunc=np.sum)"
   ]
  },
  {
   "cell_type": "code",
   "execution_count": 59,
   "id": "29517ad9",
   "metadata": {},
   "outputs": [
    {
     "name": "stderr",
     "output_type": "stream",
     "text": [
      "/var/folders/c5/wl5020591lz1g_q4qbdlp4b80000gn/T/ipykernel_16335/3732067990.py:2: FutureWarning: The provided callable <function mean at 0x1043b83a0> is currently using DataFrameGroupBy.mean. In a future version of pandas, the provided callable will be used directly. To keep current behavior pass the string \"mean\" instead.\n",
      "  pd.pivot_table(df1, index=[\"商品类别\", \"分店编号\"], columns=\"时间段\", values=\"销售数量\", aggfunc=np.mean)\n"
     ]
    },
    {
     "data": {
      "text/html": [
       "<div>\n",
       "<style scoped>\n",
       "    .dataframe tbody tr th:only-of-type {\n",
       "        vertical-align: middle;\n",
       "    }\n",
       "\n",
       "    .dataframe tbody tr th {\n",
       "        vertical-align: top;\n",
       "    }\n",
       "\n",
       "    .dataframe thead th {\n",
       "        text-align: right;\n",
       "    }\n",
       "</style>\n",
       "<table border=\"1\" class=\"dataframe\">\n",
       "  <thead>\n",
       "    <tr style=\"text-align: right;\">\n",
       "      <th></th>\n",
       "      <th>时间段</th>\n",
       "      <th>2022Q1</th>\n",
       "      <th>2022Q2</th>\n",
       "    </tr>\n",
       "    <tr>\n",
       "      <th>商品类别</th>\n",
       "      <th>分店编号</th>\n",
       "      <th></th>\n",
       "      <th></th>\n",
       "    </tr>\n",
       "  </thead>\n",
       "  <tbody>\n",
       "    <tr>\n",
       "      <th rowspan=\"2\" valign=\"top\">休闲食品</th>\n",
       "      <th>001</th>\n",
       "      <td>171.0</td>\n",
       "      <td>99.0</td>\n",
       "    </tr>\n",
       "    <tr>\n",
       "      <th>002</th>\n",
       "      <td>162.0</td>\n",
       "      <td>57.0</td>\n",
       "    </tr>\n",
       "    <tr>\n",
       "      <th rowspan=\"2\" valign=\"top\">生鲜食品</th>\n",
       "      <th>001</th>\n",
       "      <td>105.0</td>\n",
       "      <td>67.0</td>\n",
       "    </tr>\n",
       "    <tr>\n",
       "      <th>002</th>\n",
       "      <td>84.0</td>\n",
       "      <td>150.0</td>\n",
       "    </tr>\n",
       "  </tbody>\n",
       "</table>\n",
       "</div>"
      ],
      "text/plain": [
       "时间段        2022Q1  2022Q2\n",
       "商品类别 分店编号                \n",
       "休闲食品 001    171.0    99.0\n",
       "     002    162.0    57.0\n",
       "生鲜食品 001    105.0    67.0\n",
       "     002     84.0   150.0"
      ]
     },
     "execution_count": 59,
     "metadata": {},
     "output_type": "execute_result"
    }
   ],
   "source": [
    "# 对df的“商品类别”作为索引，“分店编号”作为列，计算“销售数量”的平均值\n",
    "pd.pivot_table(df1, index=[\"商品类别\", \"分店编号\"], columns=\"时间段\", values=\"销售数量\", aggfunc=np.mean)"
   ]
  },
  {
   "cell_type": "markdown",
   "id": "8457ce6c",
   "metadata": {},
   "source": [
    "## 补充：对分组聚合和透视表的总结"
   ]
  },
  {
   "cell_type": "markdown",
   "id": "d78a3eeb",
   "metadata": {},
   "source": [
    "### 分组聚合和透视表两种方法殊途同归，两种方法都是对dataframe中的数据进行结构重组并计算"
   ]
  },
  {
   "cell_type": "markdown",
   "id": "c76903b0",
   "metadata": {},
   "source": [
    "#### 分组聚合在逻辑上更加清晰，也更常用"
   ]
  },
  {
   "cell_type": "markdown",
   "id": "5d1ad5a1",
   "metadata": {},
   "source": [
    "分组聚合的逻辑线：\n",
    "\n",
    "- 根据什么属性进行分组\n",
    "- 提取分组后的什么数据\n",
    "- 对相关的数据进行什么样的运算"
   ]
  },
  {
   "cell_type": "markdown",
   "id": "34d9e109",
   "metadata": {},
   "source": [
    "    groupby(\"分组编号\")       [\"销售额\"]        .mean()\n",
    "    根据分组编号进行分组        提取销售额数据      计算平均值"
   ]
  },
  {
   "cell_type": "markdown",
   "id": "064da7ca",
   "metadata": {},
   "source": [
    "#### 透视表通过一个标准的函数，输出想要的表\n",
    "#### 分组聚合的个性化输出更强一些，透视表则更规范一些，两种方法各有其特点"
   ]
  },
  {
   "cell_type": "markdown",
   "id": "34deb73b",
   "metadata": {},
   "source": [
    "## 三、自定义分组类别"
   ]
  },
  {
   "cell_type": "code",
   "execution_count": 61,
   "id": "46a01728",
   "metadata": {},
   "outputs": [
    {
     "data": {
      "text/html": [
       "<div>\n",
       "<style scoped>\n",
       "    .dataframe tbody tr th:only-of-type {\n",
       "        vertical-align: middle;\n",
       "    }\n",
       "\n",
       "    .dataframe tbody tr th {\n",
       "        vertical-align: top;\n",
       "    }\n",
       "\n",
       "    .dataframe thead th {\n",
       "        text-align: right;\n",
       "    }\n",
       "</style>\n",
       "<table border=\"1\" class=\"dataframe\">\n",
       "  <thead>\n",
       "    <tr style=\"text-align: right;\">\n",
       "      <th></th>\n",
       "      <th>性别</th>\n",
       "      <th>居住地</th>\n",
       "      <th>年龄</th>\n",
       "      <th>工资</th>\n",
       "    </tr>\n",
       "  </thead>\n",
       "  <tbody>\n",
       "    <tr>\n",
       "      <th>0</th>\n",
       "      <td>男</td>\n",
       "      <td>北京</td>\n",
       "      <td>38</td>\n",
       "      <td>18053</td>\n",
       "    </tr>\n",
       "    <tr>\n",
       "      <th>1</th>\n",
       "      <td>女</td>\n",
       "      <td>上海</td>\n",
       "      <td>42</td>\n",
       "      <td>9382</td>\n",
       "    </tr>\n",
       "    <tr>\n",
       "      <th>2</th>\n",
       "      <td>男</td>\n",
       "      <td>广州</td>\n",
       "      <td>23</td>\n",
       "      <td>6376</td>\n",
       "    </tr>\n",
       "    <tr>\n",
       "      <th>3</th>\n",
       "      <td>女</td>\n",
       "      <td>深圳</td>\n",
       "      <td>36</td>\n",
       "      <td>10746</td>\n",
       "    </tr>\n",
       "    <tr>\n",
       "      <th>4</th>\n",
       "      <td>男</td>\n",
       "      <td>杭州</td>\n",
       "      <td>20</td>\n",
       "      <td>5284</td>\n",
       "    </tr>\n",
       "    <tr>\n",
       "      <th>5</th>\n",
       "      <td>女</td>\n",
       "      <td>南京</td>\n",
       "      <td>34</td>\n",
       "      <td>9828</td>\n",
       "    </tr>\n",
       "    <tr>\n",
       "      <th>6</th>\n",
       "      <td>男</td>\n",
       "      <td>成都</td>\n",
       "      <td>33</td>\n",
       "      <td>9366</td>\n",
       "    </tr>\n",
       "    <tr>\n",
       "      <th>7</th>\n",
       "      <td>男</td>\n",
       "      <td>重庆</td>\n",
       "      <td>47</td>\n",
       "      <td>22820</td>\n",
       "    </tr>\n",
       "    <tr>\n",
       "      <th>8</th>\n",
       "      <td>男</td>\n",
       "      <td>武汉</td>\n",
       "      <td>36</td>\n",
       "      <td>16927</td>\n",
       "    </tr>\n",
       "    <tr>\n",
       "      <th>9</th>\n",
       "      <td>女</td>\n",
       "      <td>西安</td>\n",
       "      <td>42</td>\n",
       "      <td>11591</td>\n",
       "    </tr>\n",
       "    <tr>\n",
       "      <th>10</th>\n",
       "      <td>男</td>\n",
       "      <td>南昌</td>\n",
       "      <td>42</td>\n",
       "      <td>11316</td>\n",
       "    </tr>\n",
       "    <tr>\n",
       "      <th>11</th>\n",
       "      <td>男</td>\n",
       "      <td>合肥</td>\n",
       "      <td>27</td>\n",
       "      <td>7426</td>\n",
       "    </tr>\n",
       "    <tr>\n",
       "      <th>12</th>\n",
       "      <td>男</td>\n",
       "      <td>长沙</td>\n",
       "      <td>23</td>\n",
       "      <td>4705</td>\n",
       "    </tr>\n",
       "    <tr>\n",
       "      <th>13</th>\n",
       "      <td>男</td>\n",
       "      <td>福州</td>\n",
       "      <td>41</td>\n",
       "      <td>24117</td>\n",
       "    </tr>\n",
       "    <tr>\n",
       "      <th>14</th>\n",
       "      <td>女</td>\n",
       "      <td>厦门</td>\n",
       "      <td>50</td>\n",
       "      <td>69153</td>\n",
       "    </tr>\n",
       "    <tr>\n",
       "      <th>15</th>\n",
       "      <td>女</td>\n",
       "      <td>济南</td>\n",
       "      <td>32</td>\n",
       "      <td>5559</td>\n",
       "    </tr>\n",
       "    <tr>\n",
       "      <th>16</th>\n",
       "      <td>男</td>\n",
       "      <td>郑州</td>\n",
       "      <td>56</td>\n",
       "      <td>6391</td>\n",
       "    </tr>\n",
       "    <tr>\n",
       "      <th>17</th>\n",
       "      <td>男</td>\n",
       "      <td>长春</td>\n",
       "      <td>60</td>\n",
       "      <td>11020</td>\n",
       "    </tr>\n",
       "    <tr>\n",
       "      <th>18</th>\n",
       "      <td>男</td>\n",
       "      <td>哈尔滨</td>\n",
       "      <td>59</td>\n",
       "      <td>68189</td>\n",
       "    </tr>\n",
       "    <tr>\n",
       "      <th>19</th>\n",
       "      <td>女</td>\n",
       "      <td>南宁</td>\n",
       "      <td>32</td>\n",
       "      <td>15661</td>\n",
       "    </tr>\n",
       "  </tbody>\n",
       "</table>\n",
       "</div>"
      ],
      "text/plain": [
       "   性别  居住地  年龄     工资\n",
       "0   男   北京  38  18053\n",
       "1   女   上海  42   9382\n",
       "2   男   广州  23   6376\n",
       "3   女   深圳  36  10746\n",
       "4   男   杭州  20   5284\n",
       "5   女   南京  34   9828\n",
       "6   男   成都  33   9366\n",
       "7   男   重庆  47  22820\n",
       "8   男   武汉  36  16927\n",
       "9   女   西安  42  11591\n",
       "10  男   南昌  42  11316\n",
       "11  男   合肥  27   7426\n",
       "12  男   长沙  23   4705\n",
       "13  男   福州  41  24117\n",
       "14  女   厦门  50  69153\n",
       "15  女   济南  32   5559\n",
       "16  男   郑州  56   6391\n",
       "17  男   长春  60  11020\n",
       "18  男  哈尔滨  59  68189\n",
       "19  女   南宁  32  15661"
      ]
     },
     "execution_count": 61,
     "metadata": {},
     "output_type": "execute_result"
    }
   ],
   "source": [
    "#传入数据集\n",
    "df2 = pd.read_csv(\"/Users/hardy/Desktop/Python_file/Python_DataAnalyst/Data_Organize/residents_data.csv\")\n",
    "df2"
   ]
  },
  {
   "cell_type": "code",
   "execution_count": 62,
   "id": "4a641a1c",
   "metadata": {
    "scrolled": true
   },
   "outputs": [
    {
     "data": {
      "text/plain": [
       "年龄\n",
       "20     5284.0\n",
       "23     5540.5\n",
       "27     7426.0\n",
       "32    10610.0\n",
       "33     9366.0\n",
       "34     9828.0\n",
       "36    13836.5\n",
       "38    18053.0\n",
       "41    24117.0\n",
       "42    10763.0\n",
       "47    22820.0\n",
       "50    69153.0\n",
       "56     6391.0\n",
       "59    68189.0\n",
       "60    11020.0\n",
       "Name: 工资, dtype: float64"
      ]
     },
     "execution_count": 62,
     "metadata": {},
     "output_type": "execute_result"
    }
   ],
   "source": [
    "#对df2按照“年龄”进行分组，并计算“工资”的平均值\n",
    "df2.groupby(\"年龄\")[\"工资\"].mean()"
   ]
  },
  {
   "cell_type": "markdown",
   "id": "010d59c6",
   "metadata": {},
   "source": [
    "注：此时会面临一个问题，即年龄数字过多会导致按照年龄分组得到的组别太多且不直观"
   ]
  },
  {
   "cell_type": "markdown",
   "id": "888f65d4",
   "metadata": {},
   "source": [
    "### 1.自定义分组类别"
   ]
  },
  {
   "cell_type": "markdown",
   "id": "2b76d9e6",
   "metadata": {},
   "source": [
    "    自定义分组类别——cut函数\n",
    "    pd.cut(dataframe中的某列, 分组列表, 类别标签)"
   ]
  },
  {
   "cell_type": "code",
   "execution_count": 65,
   "id": "0da9f557",
   "metadata": {},
   "outputs": [],
   "source": [
    "#设置年龄的分组列表\n",
    "age_bins = [0, 10, 20, 30, 40, 50, 60, 120]"
   ]
  },
  {
   "cell_type": "code",
   "execution_count": 66,
   "id": "c834663f",
   "metadata": {},
   "outputs": [
    {
     "data": {
      "text/plain": [
       "0     (30, 40]\n",
       "1     (40, 50]\n",
       "2     (20, 30]\n",
       "3     (30, 40]\n",
       "4     (10, 20]\n",
       "5     (30, 40]\n",
       "6     (30, 40]\n",
       "7     (40, 50]\n",
       "8     (30, 40]\n",
       "9     (40, 50]\n",
       "10    (40, 50]\n",
       "11    (20, 30]\n",
       "12    (20, 30]\n",
       "13    (40, 50]\n",
       "14    (40, 50]\n",
       "15    (30, 40]\n",
       "16    (50, 60]\n",
       "17    (50, 60]\n",
       "18    (50, 60]\n",
       "19    (30, 40]\n",
       "Name: 年龄, dtype: category\n",
       "Categories (7, interval[int64, right]): [(0, 10] < (10, 20] < (20, 30] < (30, 40] < (40, 50] < (50, 60] < (60, 120]]"
      ]
     },
     "execution_count": 66,
     "metadata": {},
     "output_type": "execute_result"
    }
   ],
   "source": [
    "#根据设定的列表自定义年龄分组类别——cut函数\n",
    "pd.cut(df2[\"年龄\"], age_bins)"
   ]
  },
  {
   "cell_type": "markdown",
   "id": "4008c867",
   "metadata": {},
   "source": [
    "注：此时会对df2中的“年龄”列按照分组列表归类，并返回各“年龄”列表中的值属于的类别"
   ]
  },
  {
   "cell_type": "code",
   "execution_count": 73,
   "id": "19dd34b9",
   "metadata": {},
   "outputs": [],
   "source": [
    "#设置年龄分组的标签\n",
    "age_labels = [\"儿童\", \"青少年\", \"青年\", \"壮年\", \"中年\", \"中老年\", \"老年\"]"
   ]
  },
  {
   "cell_type": "code",
   "execution_count": 74,
   "id": "fff3dd9f",
   "metadata": {
    "scrolled": false
   },
   "outputs": [
    {
     "data": {
      "text/plain": [
       "0      壮年\n",
       "1      中年\n",
       "2      青年\n",
       "3      壮年\n",
       "4     青少年\n",
       "5      壮年\n",
       "6      壮年\n",
       "7      中年\n",
       "8      壮年\n",
       "9      中年\n",
       "10     中年\n",
       "11     青年\n",
       "12     青年\n",
       "13     中年\n",
       "14     中年\n",
       "15     壮年\n",
       "16    中老年\n",
       "17    中老年\n",
       "18    中老年\n",
       "19     壮年\n",
       "Name: 年龄, dtype: category\n",
       "Categories (7, object): ['儿童' < '青少年' < '青年' < '壮年' < '中年' < '中老年' < '老年']"
      ]
     },
     "execution_count": 74,
     "metadata": {},
     "output_type": "execute_result"
    }
   ],
   "source": [
    "#根据分组列表及标签列表，自定义年龄分组类比的标签\n",
    "pd.cut(df2[\"年龄\"], age_bins, labels=age_labels)"
   ]
  },
  {
   "cell_type": "markdown",
   "id": "c8725f89",
   "metadata": {},
   "source": [
    "注：此时返回的仍然是一个category类型的Series"
   ]
  },
  {
   "cell_type": "markdown",
   "id": "af4e55c0",
   "metadata": {},
   "source": [
    "### 2.对自定义分组类别进行聚合运算"
   ]
  },
  {
   "cell_type": "code",
   "execution_count": 76,
   "id": "60234428",
   "metadata": {},
   "outputs": [
    {
     "data": {
      "text/html": [
       "<div>\n",
       "<style scoped>\n",
       "    .dataframe tbody tr th:only-of-type {\n",
       "        vertical-align: middle;\n",
       "    }\n",
       "\n",
       "    .dataframe tbody tr th {\n",
       "        vertical-align: top;\n",
       "    }\n",
       "\n",
       "    .dataframe thead th {\n",
       "        text-align: right;\n",
       "    }\n",
       "</style>\n",
       "<table border=\"1\" class=\"dataframe\">\n",
       "  <thead>\n",
       "    <tr style=\"text-align: right;\">\n",
       "      <th></th>\n",
       "      <th>性别</th>\n",
       "      <th>居住地</th>\n",
       "      <th>年龄</th>\n",
       "      <th>工资</th>\n",
       "      <th>年龄组</th>\n",
       "    </tr>\n",
       "  </thead>\n",
       "  <tbody>\n",
       "    <tr>\n",
       "      <th>0</th>\n",
       "      <td>男</td>\n",
       "      <td>北京</td>\n",
       "      <td>38</td>\n",
       "      <td>18053</td>\n",
       "      <td>壮年</td>\n",
       "    </tr>\n",
       "    <tr>\n",
       "      <th>1</th>\n",
       "      <td>女</td>\n",
       "      <td>上海</td>\n",
       "      <td>42</td>\n",
       "      <td>9382</td>\n",
       "      <td>中年</td>\n",
       "    </tr>\n",
       "    <tr>\n",
       "      <th>2</th>\n",
       "      <td>男</td>\n",
       "      <td>广州</td>\n",
       "      <td>23</td>\n",
       "      <td>6376</td>\n",
       "      <td>青年</td>\n",
       "    </tr>\n",
       "    <tr>\n",
       "      <th>3</th>\n",
       "      <td>女</td>\n",
       "      <td>深圳</td>\n",
       "      <td>36</td>\n",
       "      <td>10746</td>\n",
       "      <td>壮年</td>\n",
       "    </tr>\n",
       "    <tr>\n",
       "      <th>4</th>\n",
       "      <td>男</td>\n",
       "      <td>杭州</td>\n",
       "      <td>20</td>\n",
       "      <td>5284</td>\n",
       "      <td>青少年</td>\n",
       "    </tr>\n",
       "    <tr>\n",
       "      <th>5</th>\n",
       "      <td>女</td>\n",
       "      <td>南京</td>\n",
       "      <td>34</td>\n",
       "      <td>9828</td>\n",
       "      <td>壮年</td>\n",
       "    </tr>\n",
       "    <tr>\n",
       "      <th>6</th>\n",
       "      <td>男</td>\n",
       "      <td>成都</td>\n",
       "      <td>33</td>\n",
       "      <td>9366</td>\n",
       "      <td>壮年</td>\n",
       "    </tr>\n",
       "    <tr>\n",
       "      <th>7</th>\n",
       "      <td>男</td>\n",
       "      <td>重庆</td>\n",
       "      <td>47</td>\n",
       "      <td>22820</td>\n",
       "      <td>中年</td>\n",
       "    </tr>\n",
       "    <tr>\n",
       "      <th>8</th>\n",
       "      <td>男</td>\n",
       "      <td>武汉</td>\n",
       "      <td>36</td>\n",
       "      <td>16927</td>\n",
       "      <td>壮年</td>\n",
       "    </tr>\n",
       "    <tr>\n",
       "      <th>9</th>\n",
       "      <td>女</td>\n",
       "      <td>西安</td>\n",
       "      <td>42</td>\n",
       "      <td>11591</td>\n",
       "      <td>中年</td>\n",
       "    </tr>\n",
       "    <tr>\n",
       "      <th>10</th>\n",
       "      <td>男</td>\n",
       "      <td>南昌</td>\n",
       "      <td>42</td>\n",
       "      <td>11316</td>\n",
       "      <td>中年</td>\n",
       "    </tr>\n",
       "    <tr>\n",
       "      <th>11</th>\n",
       "      <td>男</td>\n",
       "      <td>合肥</td>\n",
       "      <td>27</td>\n",
       "      <td>7426</td>\n",
       "      <td>青年</td>\n",
       "    </tr>\n",
       "    <tr>\n",
       "      <th>12</th>\n",
       "      <td>男</td>\n",
       "      <td>长沙</td>\n",
       "      <td>23</td>\n",
       "      <td>4705</td>\n",
       "      <td>青年</td>\n",
       "    </tr>\n",
       "    <tr>\n",
       "      <th>13</th>\n",
       "      <td>男</td>\n",
       "      <td>福州</td>\n",
       "      <td>41</td>\n",
       "      <td>24117</td>\n",
       "      <td>中年</td>\n",
       "    </tr>\n",
       "    <tr>\n",
       "      <th>14</th>\n",
       "      <td>女</td>\n",
       "      <td>厦门</td>\n",
       "      <td>50</td>\n",
       "      <td>69153</td>\n",
       "      <td>中年</td>\n",
       "    </tr>\n",
       "    <tr>\n",
       "      <th>15</th>\n",
       "      <td>女</td>\n",
       "      <td>济南</td>\n",
       "      <td>32</td>\n",
       "      <td>5559</td>\n",
       "      <td>壮年</td>\n",
       "    </tr>\n",
       "    <tr>\n",
       "      <th>16</th>\n",
       "      <td>男</td>\n",
       "      <td>郑州</td>\n",
       "      <td>56</td>\n",
       "      <td>6391</td>\n",
       "      <td>中老年</td>\n",
       "    </tr>\n",
       "    <tr>\n",
       "      <th>17</th>\n",
       "      <td>男</td>\n",
       "      <td>长春</td>\n",
       "      <td>60</td>\n",
       "      <td>11020</td>\n",
       "      <td>中老年</td>\n",
       "    </tr>\n",
       "    <tr>\n",
       "      <th>18</th>\n",
       "      <td>男</td>\n",
       "      <td>哈尔滨</td>\n",
       "      <td>59</td>\n",
       "      <td>68189</td>\n",
       "      <td>中老年</td>\n",
       "    </tr>\n",
       "    <tr>\n",
       "      <th>19</th>\n",
       "      <td>女</td>\n",
       "      <td>南宁</td>\n",
       "      <td>32</td>\n",
       "      <td>15661</td>\n",
       "      <td>壮年</td>\n",
       "    </tr>\n",
       "  </tbody>\n",
       "</table>\n",
       "</div>"
      ],
      "text/plain": [
       "   性别  居住地  年龄     工资  年龄组\n",
       "0   男   北京  38  18053   壮年\n",
       "1   女   上海  42   9382   中年\n",
       "2   男   广州  23   6376   青年\n",
       "3   女   深圳  36  10746   壮年\n",
       "4   男   杭州  20   5284  青少年\n",
       "5   女   南京  34   9828   壮年\n",
       "6   男   成都  33   9366   壮年\n",
       "7   男   重庆  47  22820   中年\n",
       "8   男   武汉  36  16927   壮年\n",
       "9   女   西安  42  11591   中年\n",
       "10  男   南昌  42  11316   中年\n",
       "11  男   合肥  27   7426   青年\n",
       "12  男   长沙  23   4705   青年\n",
       "13  男   福州  41  24117   中年\n",
       "14  女   厦门  50  69153   中年\n",
       "15  女   济南  32   5559   壮年\n",
       "16  男   郑州  56   6391  中老年\n",
       "17  男   长春  60  11020  中老年\n",
       "18  男  哈尔滨  59  68189  中老年\n",
       "19  女   南宁  32  15661   壮年"
      ]
     },
     "execution_count": 76,
     "metadata": {},
     "output_type": "execute_result"
    }
   ],
   "source": [
    "#在df2中插入一个新的列，列名为“年龄组”\n",
    "df2[\"年龄组\"] = pd.cut(df2[\"年龄\"], age_bins, labels=age_labels)\n",
    "df2"
   ]
  },
  {
   "cell_type": "code",
   "execution_count": 78,
   "id": "70e7d302",
   "metadata": {},
   "outputs": [
    {
     "name": "stderr",
     "output_type": "stream",
     "text": [
      "/var/folders/c5/wl5020591lz1g_q4qbdlp4b80000gn/T/ipykernel_16335/3791185705.py:2: FutureWarning: The default of observed=False is deprecated and will be changed to True in a future version of pandas. Pass observed=False to retain current behavior or observed=True to adopt the future default and silence this warning.\n",
      "  df2.groupby(\"年龄组\")[\"工资\"].mean()\n"
     ]
    },
    {
     "data": {
      "text/plain": [
       "年龄组\n",
       "儿童              NaN\n",
       "青少年     5284.000000\n",
       "青年      6169.000000\n",
       "壮年     12305.714286\n",
       "中年     24729.833333\n",
       "中老年    28533.333333\n",
       "老年              NaN\n",
       "Name: 工资, dtype: float64"
      ]
     },
     "execution_count": 78,
     "metadata": {},
     "output_type": "execute_result"
    }
   ],
   "source": [
    "#对df2中“年龄组”进行分组后的“工资”求平均值\n",
    "df2.groupby(\"年龄组\")[\"工资\"].mean()"
   ]
  },
  {
   "cell_type": "markdown",
   "id": "397b145f",
   "metadata": {},
   "source": [
    "## 四、筛选特定条件的值"
   ]
  },
  {
   "cell_type": "markdown",
   "id": "1e02bfa0",
   "metadata": {},
   "source": [
    "### 1.提取与重置索引"
   ]
  },
  {
   "cell_type": "code",
   "execution_count": 86,
   "id": "892b846c",
   "metadata": {},
   "outputs": [
    {
     "data": {
      "text/html": [
       "<div>\n",
       "<style scoped>\n",
       "    .dataframe tbody tr th:only-of-type {\n",
       "        vertical-align: middle;\n",
       "    }\n",
       "\n",
       "    .dataframe tbody tr th {\n",
       "        vertical-align: top;\n",
       "    }\n",
       "\n",
       "    .dataframe thead th {\n",
       "        text-align: right;\n",
       "    }\n",
       "</style>\n",
       "<table border=\"1\" class=\"dataframe\">\n",
       "  <thead>\n",
       "    <tr style=\"text-align: right;\">\n",
       "      <th></th>\n",
       "      <th></th>\n",
       "      <th>销售额</th>\n",
       "      <th>销售数量</th>\n",
       "    </tr>\n",
       "    <tr>\n",
       "      <th>分店编号</th>\n",
       "      <th>时间段</th>\n",
       "      <th></th>\n",
       "      <th></th>\n",
       "    </tr>\n",
       "  </thead>\n",
       "  <tbody>\n",
       "    <tr>\n",
       "      <th rowspan=\"2\" valign=\"top\">001</th>\n",
       "      <th>2022Q1</th>\n",
       "      <td>2250.0</td>\n",
       "      <td>138.0</td>\n",
       "    </tr>\n",
       "    <tr>\n",
       "      <th>2022Q2</th>\n",
       "      <td>2500.0</td>\n",
       "      <td>83.0</td>\n",
       "    </tr>\n",
       "    <tr>\n",
       "      <th rowspan=\"2\" valign=\"top\">002</th>\n",
       "      <th>2022Q1</th>\n",
       "      <td>2250.0</td>\n",
       "      <td>123.0</td>\n",
       "    </tr>\n",
       "    <tr>\n",
       "      <th>2022Q2</th>\n",
       "      <td>2450.0</td>\n",
       "      <td>103.5</td>\n",
       "    </tr>\n",
       "  </tbody>\n",
       "</table>\n",
       "</div>"
      ],
      "text/plain": [
       "                销售额   销售数量\n",
       "分店编号 时间段                  \n",
       "001  2022Q1  2250.0  138.0\n",
       "     2022Q2  2500.0   83.0\n",
       "002  2022Q1  2250.0  123.0\n",
       "     2022Q2  2450.0  103.5"
      ]
     },
     "execution_count": 86,
     "metadata": {},
     "output_type": "execute_result"
    }
   ],
   "source": [
    "#对df1按照“分店编号”和“时间段”进行分组，并计算“销售额”和“销售数量”的平均值\n",
    "grouped_df1 = df1.groupby([\"分店编号\", \"时间段\"])[[\"销售额\", \"销售数量\"]].mean()\n",
    "grouped_df1 "
   ]
  },
  {
   "cell_type": "code",
   "execution_count": 87,
   "id": "1f6806f0",
   "metadata": {},
   "outputs": [
    {
     "data": {
      "text/html": [
       "<div>\n",
       "<style scoped>\n",
       "    .dataframe tbody tr th:only-of-type {\n",
       "        vertical-align: middle;\n",
       "    }\n",
       "\n",
       "    .dataframe tbody tr th {\n",
       "        vertical-align: top;\n",
       "    }\n",
       "\n",
       "    .dataframe thead th {\n",
       "        text-align: right;\n",
       "    }\n",
       "</style>\n",
       "<table border=\"1\" class=\"dataframe\">\n",
       "  <thead>\n",
       "    <tr style=\"text-align: right;\">\n",
       "      <th></th>\n",
       "      <th>销售额</th>\n",
       "      <th>销售数量</th>\n",
       "    </tr>\n",
       "    <tr>\n",
       "      <th>时间段</th>\n",
       "      <th></th>\n",
       "      <th></th>\n",
       "    </tr>\n",
       "  </thead>\n",
       "  <tbody>\n",
       "    <tr>\n",
       "      <th>2022Q1</th>\n",
       "      <td>2250.0</td>\n",
       "      <td>138.0</td>\n",
       "    </tr>\n",
       "    <tr>\n",
       "      <th>2022Q2</th>\n",
       "      <td>2500.0</td>\n",
       "      <td>83.0</td>\n",
       "    </tr>\n",
       "  </tbody>\n",
       "</table>\n",
       "</div>"
      ],
      "text/plain": [
       "           销售额   销售数量\n",
       "时间段                  \n",
       "2022Q1  2250.0  138.0\n",
       "2022Q2  2500.0   83.0"
      ]
     },
     "execution_count": 87,
     "metadata": {},
     "output_type": "execute_result"
    }
   ],
   "source": [
    "#提取grouped_df1中索引为001的行\n",
    "grouped_df1.loc[\"001\"]"
   ]
  },
  {
   "cell_type": "code",
   "execution_count": 88,
   "id": "cb9c161c",
   "metadata": {},
   "outputs": [
    {
     "data": {
      "text/plain": [
       "销售额     2250.0\n",
       "销售数量     138.0\n",
       "Name: 2022Q1, dtype: float64"
      ]
     },
     "execution_count": 88,
     "metadata": {},
     "output_type": "execute_result"
    }
   ],
   "source": [
    "#提取grouped_df1中外层索引为001，内层索引为2022Q1的行\n",
    "grouped_df1.loc[\"001\"].loc[\"2022Q1\"]"
   ]
  },
  {
   "cell_type": "code",
   "execution_count": 89,
   "id": "6dcc1da0",
   "metadata": {},
   "outputs": [
    {
     "data": {
      "text/html": [
       "<div>\n",
       "<style scoped>\n",
       "    .dataframe tbody tr th:only-of-type {\n",
       "        vertical-align: middle;\n",
       "    }\n",
       "\n",
       "    .dataframe tbody tr th {\n",
       "        vertical-align: top;\n",
       "    }\n",
       "\n",
       "    .dataframe thead th {\n",
       "        text-align: right;\n",
       "    }\n",
       "</style>\n",
       "<table border=\"1\" class=\"dataframe\">\n",
       "  <thead>\n",
       "    <tr style=\"text-align: right;\">\n",
       "      <th></th>\n",
       "      <th>分店编号</th>\n",
       "      <th>时间段</th>\n",
       "      <th>销售额</th>\n",
       "      <th>销售数量</th>\n",
       "    </tr>\n",
       "  </thead>\n",
       "  <tbody>\n",
       "    <tr>\n",
       "      <th>0</th>\n",
       "      <td>001</td>\n",
       "      <td>2022Q1</td>\n",
       "      <td>2250.0</td>\n",
       "      <td>138.0</td>\n",
       "    </tr>\n",
       "    <tr>\n",
       "      <th>1</th>\n",
       "      <td>001</td>\n",
       "      <td>2022Q2</td>\n",
       "      <td>2500.0</td>\n",
       "      <td>83.0</td>\n",
       "    </tr>\n",
       "    <tr>\n",
       "      <th>2</th>\n",
       "      <td>002</td>\n",
       "      <td>2022Q1</td>\n",
       "      <td>2250.0</td>\n",
       "      <td>123.0</td>\n",
       "    </tr>\n",
       "    <tr>\n",
       "      <th>3</th>\n",
       "      <td>002</td>\n",
       "      <td>2022Q2</td>\n",
       "      <td>2450.0</td>\n",
       "      <td>103.5</td>\n",
       "    </tr>\n",
       "  </tbody>\n",
       "</table>\n",
       "</div>"
      ],
      "text/plain": [
       "  分店编号     时间段     销售额   销售数量\n",
       "0  001  2022Q1  2250.0  138.0\n",
       "1  001  2022Q2  2500.0   83.0\n",
       "2  002  2022Q1  2250.0  123.0\n",
       "3  002  2022Q2  2450.0  103.5"
      ]
     },
     "execution_count": 89,
     "metadata": {},
     "output_type": "execute_result"
    }
   ],
   "source": [
    "#重置grouped_df1索引\n",
    "grouped_df1.reset_index()"
   ]
  },
  {
   "cell_type": "markdown",
   "id": "1772cd72",
   "metadata": {},
   "source": [
    "### 2.根据特定条件筛选行"
   ]
  },
  {
   "cell_type": "code",
   "execution_count": 90,
   "id": "c2eed0cf",
   "metadata": {},
   "outputs": [
    {
     "data": {
      "text/html": [
       "<div>\n",
       "<style scoped>\n",
       "    .dataframe tbody tr th:only-of-type {\n",
       "        vertical-align: middle;\n",
       "    }\n",
       "\n",
       "    .dataframe tbody tr th {\n",
       "        vertical-align: top;\n",
       "    }\n",
       "\n",
       "    .dataframe thead th {\n",
       "        text-align: right;\n",
       "    }\n",
       "</style>\n",
       "<table border=\"1\" class=\"dataframe\">\n",
       "  <thead>\n",
       "    <tr style=\"text-align: right;\">\n",
       "      <th></th>\n",
       "      <th>性别</th>\n",
       "      <th>居住地</th>\n",
       "      <th>年龄</th>\n",
       "      <th>工资</th>\n",
       "      <th>年龄组</th>\n",
       "    </tr>\n",
       "  </thead>\n",
       "  <tbody>\n",
       "    <tr>\n",
       "      <th>0</th>\n",
       "      <td>男</td>\n",
       "      <td>北京</td>\n",
       "      <td>38</td>\n",
       "      <td>18053</td>\n",
       "      <td>壮年</td>\n",
       "    </tr>\n",
       "    <tr>\n",
       "      <th>1</th>\n",
       "      <td>女</td>\n",
       "      <td>上海</td>\n",
       "      <td>42</td>\n",
       "      <td>9382</td>\n",
       "      <td>中年</td>\n",
       "    </tr>\n",
       "    <tr>\n",
       "      <th>2</th>\n",
       "      <td>男</td>\n",
       "      <td>广州</td>\n",
       "      <td>23</td>\n",
       "      <td>6376</td>\n",
       "      <td>青年</td>\n",
       "    </tr>\n",
       "    <tr>\n",
       "      <th>3</th>\n",
       "      <td>女</td>\n",
       "      <td>深圳</td>\n",
       "      <td>36</td>\n",
       "      <td>10746</td>\n",
       "      <td>壮年</td>\n",
       "    </tr>\n",
       "    <tr>\n",
       "      <th>4</th>\n",
       "      <td>男</td>\n",
       "      <td>杭州</td>\n",
       "      <td>20</td>\n",
       "      <td>5284</td>\n",
       "      <td>青少年</td>\n",
       "    </tr>\n",
       "    <tr>\n",
       "      <th>5</th>\n",
       "      <td>女</td>\n",
       "      <td>南京</td>\n",
       "      <td>34</td>\n",
       "      <td>9828</td>\n",
       "      <td>壮年</td>\n",
       "    </tr>\n",
       "    <tr>\n",
       "      <th>6</th>\n",
       "      <td>男</td>\n",
       "      <td>成都</td>\n",
       "      <td>33</td>\n",
       "      <td>9366</td>\n",
       "      <td>壮年</td>\n",
       "    </tr>\n",
       "    <tr>\n",
       "      <th>7</th>\n",
       "      <td>男</td>\n",
       "      <td>重庆</td>\n",
       "      <td>47</td>\n",
       "      <td>22820</td>\n",
       "      <td>中年</td>\n",
       "    </tr>\n",
       "    <tr>\n",
       "      <th>8</th>\n",
       "      <td>男</td>\n",
       "      <td>武汉</td>\n",
       "      <td>36</td>\n",
       "      <td>16927</td>\n",
       "      <td>壮年</td>\n",
       "    </tr>\n",
       "    <tr>\n",
       "      <th>9</th>\n",
       "      <td>女</td>\n",
       "      <td>西安</td>\n",
       "      <td>42</td>\n",
       "      <td>11591</td>\n",
       "      <td>中年</td>\n",
       "    </tr>\n",
       "    <tr>\n",
       "      <th>10</th>\n",
       "      <td>男</td>\n",
       "      <td>南昌</td>\n",
       "      <td>42</td>\n",
       "      <td>11316</td>\n",
       "      <td>中年</td>\n",
       "    </tr>\n",
       "    <tr>\n",
       "      <th>11</th>\n",
       "      <td>男</td>\n",
       "      <td>合肥</td>\n",
       "      <td>27</td>\n",
       "      <td>7426</td>\n",
       "      <td>青年</td>\n",
       "    </tr>\n",
       "    <tr>\n",
       "      <th>12</th>\n",
       "      <td>男</td>\n",
       "      <td>长沙</td>\n",
       "      <td>23</td>\n",
       "      <td>4705</td>\n",
       "      <td>青年</td>\n",
       "    </tr>\n",
       "    <tr>\n",
       "      <th>13</th>\n",
       "      <td>男</td>\n",
       "      <td>福州</td>\n",
       "      <td>41</td>\n",
       "      <td>24117</td>\n",
       "      <td>中年</td>\n",
       "    </tr>\n",
       "    <tr>\n",
       "      <th>14</th>\n",
       "      <td>女</td>\n",
       "      <td>厦门</td>\n",
       "      <td>50</td>\n",
       "      <td>69153</td>\n",
       "      <td>中年</td>\n",
       "    </tr>\n",
       "    <tr>\n",
       "      <th>15</th>\n",
       "      <td>女</td>\n",
       "      <td>济南</td>\n",
       "      <td>32</td>\n",
       "      <td>5559</td>\n",
       "      <td>壮年</td>\n",
       "    </tr>\n",
       "    <tr>\n",
       "      <th>16</th>\n",
       "      <td>男</td>\n",
       "      <td>郑州</td>\n",
       "      <td>56</td>\n",
       "      <td>6391</td>\n",
       "      <td>中老年</td>\n",
       "    </tr>\n",
       "    <tr>\n",
       "      <th>17</th>\n",
       "      <td>男</td>\n",
       "      <td>长春</td>\n",
       "      <td>60</td>\n",
       "      <td>11020</td>\n",
       "      <td>中老年</td>\n",
       "    </tr>\n",
       "    <tr>\n",
       "      <th>18</th>\n",
       "      <td>男</td>\n",
       "      <td>哈尔滨</td>\n",
       "      <td>59</td>\n",
       "      <td>68189</td>\n",
       "      <td>中老年</td>\n",
       "    </tr>\n",
       "    <tr>\n",
       "      <th>19</th>\n",
       "      <td>女</td>\n",
       "      <td>南宁</td>\n",
       "      <td>32</td>\n",
       "      <td>15661</td>\n",
       "      <td>壮年</td>\n",
       "    </tr>\n",
       "  </tbody>\n",
       "</table>\n",
       "</div>"
      ],
      "text/plain": [
       "   性别  居住地  年龄     工资  年龄组\n",
       "0   男   北京  38  18053   壮年\n",
       "1   女   上海  42   9382   中年\n",
       "2   男   广州  23   6376   青年\n",
       "3   女   深圳  36  10746   壮年\n",
       "4   男   杭州  20   5284  青少年\n",
       "5   女   南京  34   9828   壮年\n",
       "6   男   成都  33   9366   壮年\n",
       "7   男   重庆  47  22820   中年\n",
       "8   男   武汉  36  16927   壮年\n",
       "9   女   西安  42  11591   中年\n",
       "10  男   南昌  42  11316   中年\n",
       "11  男   合肥  27   7426   青年\n",
       "12  男   长沙  23   4705   青年\n",
       "13  男   福州  41  24117   中年\n",
       "14  女   厦门  50  69153   中年\n",
       "15  女   济南  32   5559   壮年\n",
       "16  男   郑州  56   6391  中老年\n",
       "17  男   长春  60  11020  中老年\n",
       "18  男  哈尔滨  59  68189  中老年\n",
       "19  女   南宁  32  15661   壮年"
      ]
     },
     "execution_count": 90,
     "metadata": {},
     "output_type": "execute_result"
    }
   ],
   "source": [
    "df2"
   ]
  },
  {
   "cell_type": "code",
   "execution_count": 96,
   "id": "30821f32",
   "metadata": {},
   "outputs": [
    {
     "data": {
      "text/html": [
       "<div>\n",
       "<style scoped>\n",
       "    .dataframe tbody tr th:only-of-type {\n",
       "        vertical-align: middle;\n",
       "    }\n",
       "\n",
       "    .dataframe tbody tr th {\n",
       "        vertical-align: top;\n",
       "    }\n",
       "\n",
       "    .dataframe thead th {\n",
       "        text-align: right;\n",
       "    }\n",
       "</style>\n",
       "<table border=\"1\" class=\"dataframe\">\n",
       "  <thead>\n",
       "    <tr style=\"text-align: right;\">\n",
       "      <th></th>\n",
       "      <th>性别</th>\n",
       "      <th>居住地</th>\n",
       "      <th>年龄</th>\n",
       "      <th>工资</th>\n",
       "      <th>年龄组</th>\n",
       "    </tr>\n",
       "  </thead>\n",
       "  <tbody>\n",
       "    <tr>\n",
       "      <th>2</th>\n",
       "      <td>男</td>\n",
       "      <td>广州</td>\n",
       "      <td>23</td>\n",
       "      <td>6376</td>\n",
       "      <td>青年</td>\n",
       "    </tr>\n",
       "    <tr>\n",
       "      <th>4</th>\n",
       "      <td>男</td>\n",
       "      <td>杭州</td>\n",
       "      <td>20</td>\n",
       "      <td>5284</td>\n",
       "      <td>青少年</td>\n",
       "    </tr>\n",
       "    <tr>\n",
       "      <th>11</th>\n",
       "      <td>男</td>\n",
       "      <td>合肥</td>\n",
       "      <td>27</td>\n",
       "      <td>7426</td>\n",
       "      <td>青年</td>\n",
       "    </tr>\n",
       "    <tr>\n",
       "      <th>12</th>\n",
       "      <td>男</td>\n",
       "      <td>长沙</td>\n",
       "      <td>23</td>\n",
       "      <td>4705</td>\n",
       "      <td>青年</td>\n",
       "    </tr>\n",
       "  </tbody>\n",
       "</table>\n",
       "</div>"
      ],
      "text/plain": [
       "   性别 居住地  年龄    工资  年龄组\n",
       "2   男  广州  23  6376   青年\n",
       "4   男  杭州  20  5284  青少年\n",
       "11  男  合肥  27  7426   青年\n",
       "12  男  长沙  23  4705   青年"
      ]
     },
     "execution_count": 96,
     "metadata": {},
     "output_type": "execute_result"
    }
   ],
   "source": [
    "#筛选“性别”为男，“年龄”在20-30之间的行——提取df2种符合条件的值\n",
    "df2[(df2[\"性别\"] == \"男\") & (df2[\"年龄\"] <= 30)]"
   ]
  },
  {
   "cell_type": "code",
   "execution_count": 97,
   "id": "dbf65241",
   "metadata": {},
   "outputs": [
    {
     "data": {
      "text/html": [
       "<div>\n",
       "<style scoped>\n",
       "    .dataframe tbody tr th:only-of-type {\n",
       "        vertical-align: middle;\n",
       "    }\n",
       "\n",
       "    .dataframe tbody tr th {\n",
       "        vertical-align: top;\n",
       "    }\n",
       "\n",
       "    .dataframe thead th {\n",
       "        text-align: right;\n",
       "    }\n",
       "</style>\n",
       "<table border=\"1\" class=\"dataframe\">\n",
       "  <thead>\n",
       "    <tr style=\"text-align: right;\">\n",
       "      <th></th>\n",
       "      <th>性别</th>\n",
       "      <th>居住地</th>\n",
       "      <th>年龄</th>\n",
       "      <th>工资</th>\n",
       "      <th>年龄组</th>\n",
       "    </tr>\n",
       "  </thead>\n",
       "  <tbody>\n",
       "    <tr>\n",
       "      <th>2</th>\n",
       "      <td>男</td>\n",
       "      <td>广州</td>\n",
       "      <td>23</td>\n",
       "      <td>6376</td>\n",
       "      <td>青年</td>\n",
       "    </tr>\n",
       "    <tr>\n",
       "      <th>4</th>\n",
       "      <td>男</td>\n",
       "      <td>杭州</td>\n",
       "      <td>20</td>\n",
       "      <td>5284</td>\n",
       "      <td>青少年</td>\n",
       "    </tr>\n",
       "    <tr>\n",
       "      <th>11</th>\n",
       "      <td>男</td>\n",
       "      <td>合肥</td>\n",
       "      <td>27</td>\n",
       "      <td>7426</td>\n",
       "      <td>青年</td>\n",
       "    </tr>\n",
       "    <tr>\n",
       "      <th>12</th>\n",
       "      <td>男</td>\n",
       "      <td>长沙</td>\n",
       "      <td>23</td>\n",
       "      <td>4705</td>\n",
       "      <td>青年</td>\n",
       "    </tr>\n",
       "  </tbody>\n",
       "</table>\n",
       "</div>"
      ],
      "text/plain": [
       "   性别 居住地  年龄    工资  年龄组\n",
       "2   男  广州  23  6376   青年\n",
       "4   男  杭州  20  5284  青少年\n",
       "11  男  合肥  27  7426   青年\n",
       "12  男  长沙  23  4705   青年"
      ]
     },
     "execution_count": 97,
     "metadata": {},
     "output_type": "execute_result"
    }
   ],
   "source": [
    "#筛选“性别”为男，“年龄”在20-30之间的行——运用query方法\n",
    "df2.query('(性别 ==\"男\") & (年龄 <= 30)')"
   ]
  },
  {
   "cell_type": "code",
   "execution_count": null,
   "id": "a57ce928",
   "metadata": {},
   "outputs": [],
   "source": []
  }
 ],
 "metadata": {
  "kernelspec": {
   "display_name": "Python 3 (ipykernel)",
   "language": "python",
   "name": "python3"
  },
  "language_info": {
   "codemirror_mode": {
    "name": "ipython",
    "version": 3
   },
   "file_extension": ".py",
   "mimetype": "text/x-python",
   "name": "python",
   "nbconvert_exporter": "python",
   "pygments_lexer": "ipython3",
   "version": "3.10.13"
  }
 },
 "nbformat": 4,
 "nbformat_minor": 5
}
