{
 "cells": [
  {
   "cell_type": "markdown",
   "id": "2d97deeb",
   "metadata": {},
   "source": [
    "# Numpy基础"
   ]
  },
  {
   "cell_type": "markdown",
   "id": "e2b700d3",
   "metadata": {},
   "source": [
    "## 一、数组——更适合数据分析的列表"
   ]
  },
  {
   "cell_type": "code",
   "execution_count": 2,
   "id": "70eaf521",
   "metadata": {},
   "outputs": [],
   "source": [
    "import numpy as np"
   ]
  },
  {
   "cell_type": "markdown",
   "id": "2ea9ce6a",
   "metadata": {},
   "source": [
    "### 1. 创建数组"
   ]
  },
  {
   "cell_type": "markdown",
   "id": "2b110f74",
   "metadata": {},
   "source": [
    "#### （1）创建一维数组"
   ]
  },
  {
   "cell_type": "code",
   "execution_count": 3,
   "id": "4efbea06",
   "metadata": {},
   "outputs": [
    {
     "data": {
      "text/plain": [
       "array([1, 2, 3])"
      ]
     },
     "execution_count": 3,
     "metadata": {},
     "output_type": "execute_result"
    }
   ],
   "source": [
    "arr1 = np.array([1,2,3])\n",
    "arr1"
   ]
  },
  {
   "cell_type": "markdown",
   "id": "a2529218",
   "metadata": {},
   "source": [
    "#### （2）创建二维数组"
   ]
  },
  {
   "cell_type": "code",
   "execution_count": 4,
   "id": "333c1cfd",
   "metadata": {},
   "outputs": [
    {
     "data": {
      "text/plain": [
       "array([[1, 2, 3],\n",
       "       [4, 5, 6]])"
      ]
     },
     "execution_count": 4,
     "metadata": {},
     "output_type": "execute_result"
    }
   ],
   "source": [
    "arr2 = np.array([[1,2,3],[4,5,6]])\n",
    "arr2"
   ]
  },
  {
   "cell_type": "markdown",
   "id": "b7f9c1aa",
   "metadata": {},
   "source": [
    "注意：数组与列表不同，需要数组中的元素都为同一类型；  \n",
    "传入数组元素不同，array方法会强制将其转换成同一类型。"
   ]
  },
  {
   "cell_type": "code",
   "execution_count": 5,
   "id": "981e9f2d",
   "metadata": {},
   "outputs": [
    {
     "data": {
      "text/plain": [
       "array(['hello', '3.14', 'True'], dtype='<U32')"
      ]
     },
     "execution_count": 5,
     "metadata": {},
     "output_type": "execute_result"
    }
   ],
   "source": [
    "arr3 = np.array([\"hello\", 3.14, True])\n",
    "arr3"
   ]
  },
  {
   "cell_type": "markdown",
   "id": "dbac751e",
   "metadata": {},
   "source": [
    "### 2. 数组对象的属性"
   ]
  },
  {
   "cell_type": "markdown",
   "id": "cb458de6",
   "metadata": {},
   "source": [
    "#### (1)返回数组的维度："
   ]
  },
  {
   "cell_type": "code",
   "execution_count": 12,
   "id": "8f1fea93",
   "metadata": {},
   "outputs": [
    {
     "name": "stdout",
     "output_type": "stream",
     "text": [
      "1\n",
      "2\n"
     ]
    }
   ],
   "source": [
    "print(arr1.ndim)\n",
    "print(arr2.ndim)"
   ]
  },
  {
   "cell_type": "markdown",
   "id": "4ac81690",
   "metadata": {},
   "source": [
    "#### (2)返回数组的维度及个数"
   ]
  },
  {
   "cell_type": "code",
   "execution_count": 13,
   "id": "e521e5e5",
   "metadata": {
    "scrolled": true
   },
   "outputs": [
    {
     "name": "stdout",
     "output_type": "stream",
     "text": [
      "(3,)\n",
      "(2, 3)\n"
     ]
    }
   ],
   "source": [
    "print(arr1.shape)\n",
    "print(arr2.shape)"
   ]
  },
  {
   "cell_type": "markdown",
   "id": "f6bee2aa",
   "metadata": {},
   "source": [
    "#### (3)返回数组中元素总个数"
   ]
  },
  {
   "cell_type": "code",
   "execution_count": 14,
   "id": "46095a7e",
   "metadata": {},
   "outputs": [
    {
     "name": "stdout",
     "output_type": "stream",
     "text": [
      "3\n",
      "6\n"
     ]
    }
   ],
   "source": [
    "print(arr1.size)\n",
    "print(arr2.size)"
   ]
  },
  {
   "cell_type": "markdown",
   "id": "a782387a",
   "metadata": {},
   "source": [
    "#### (4)返回数组中元素的类型"
   ]
  },
  {
   "cell_type": "code",
   "execution_count": 15,
   "id": "1b7e3c39",
   "metadata": {},
   "outputs": [
    {
     "name": "stdout",
     "output_type": "stream",
     "text": [
      "int64\n",
      "int64\n"
     ]
    }
   ],
   "source": [
    "print(arr1.dtype)\n",
    "print(arr2.dtype)"
   ]
  },
  {
   "cell_type": "markdown",
   "id": "c376db96",
   "metadata": {},
   "source": [
    "### 3. 其他创建数组方法"
   ]
  },
  {
   "cell_type": "markdown",
   "id": "aeaea739",
   "metadata": {},
   "source": [
    "#### （1）创造元素全部为0（或者1）的数组"
   ]
  },
  {
   "cell_type": "code",
   "execution_count": 9,
   "id": "9e591282",
   "metadata": {},
   "outputs": [
    {
     "name": "stdout",
     "output_type": "stream",
     "text": [
      "[0. 0. 0.]\n",
      "[1. 1. 1. 1. 1.]\n"
     ]
    }
   ],
   "source": [
    "zeros = np.zeros(3)\n",
    "ones = np.ones(5)\n",
    "print(zeros)\n",
    "print(ones)"
   ]
  },
  {
   "cell_type": "markdown",
   "id": "17043b36",
   "metadata": {},
   "source": [
    "注：此数组元素后面有小数点，说明创造的都是浮点数"
   ]
  },
  {
   "cell_type": "markdown",
   "id": "a3a4c469",
   "metadata": {},
   "source": [
    "#### （2）创造元素为数组序列的数组"
   ]
  },
  {
   "cell_type": "code",
   "execution_count": 10,
   "id": "41746a71",
   "metadata": {},
   "outputs": [
    {
     "data": {
      "text/plain": [
       "array([5, 7, 9])"
      ]
     },
     "execution_count": 10,
     "metadata": {},
     "output_type": "execute_result"
    }
   ],
   "source": [
    "np.arange(5,10,2)"
   ]
  },
  {
   "cell_type": "markdown",
   "id": "4816ccb2",
   "metadata": {},
   "source": [
    "注：（x, y, z）中x为起始数，y为终止数，z为步长  \n",
    "终止数不会包括在数组里"
   ]
  },
  {
   "cell_type": "markdown",
   "id": "b9308a05",
   "metadata": {},
   "source": [
    "## 二、数组的整理与运算"
   ]
  },
  {
   "cell_type": "markdown",
   "id": "4fe82915",
   "metadata": {},
   "source": [
    "### 1.数组的连接、排序、索引与切片"
   ]
  },
  {
   "cell_type": "markdown",
   "id": "5ce6e6e7",
   "metadata": {},
   "source": [
    "#### （1）数组连接"
   ]
  },
  {
   "cell_type": "code",
   "execution_count": 11,
   "id": "ce8893b3",
   "metadata": {},
   "outputs": [
    {
     "data": {
      "text/plain": [
       "array([1, 3, 5, 7, 9, 2, 4])"
      ]
     },
     "execution_count": 11,
     "metadata": {},
     "output_type": "execute_result"
    }
   ],
   "source": [
    "arr4 = np.array([1,3,5,7,9])\n",
    "arr5 = np.array([2,4])\n",
    "np.concatenate([arr4,arr5])"
   ]
  },
  {
   "cell_type": "markdown",
   "id": "cb50aa06",
   "metadata": {},
   "source": [
    "#### （2）数组排序"
   ]
  },
  {
   "cell_type": "markdown",
   "id": "0ce6ddae",
   "metadata": {},
   "source": [
    "##### sort函数"
   ]
  },
  {
   "cell_type": "code",
   "execution_count": 12,
   "id": "c064ef25",
   "metadata": {},
   "outputs": [
    {
     "name": "stdout",
     "output_type": "stream",
     "text": [
      "[ 3  5 17 26 31]\n",
      "[ 5 17  3 26 31]\n"
     ]
    }
   ],
   "source": [
    "arr6 = np.array([5,17,3,26,31])\n",
    "print(np.sort(arr6))\n",
    "print(arr6)"
   ]
  },
  {
   "cell_type": "markdown",
   "id": "bc4c6663",
   "metadata": {},
   "source": [
    "##### sort方法"
   ]
  },
  {
   "cell_type": "code",
   "execution_count": 13,
   "id": "0d8a1eb7",
   "metadata": {},
   "outputs": [
    {
     "name": "stdout",
     "output_type": "stream",
     "text": [
      "None\n",
      "[ 3  5 17 26 31]\n"
     ]
    }
   ],
   "source": [
    "arr6 = np.array([5,17,3,26,31])\n",
    "print(arr6.sort())\n",
    "print(arr6)"
   ]
  },
  {
   "cell_type": "markdown",
   "id": "be0dc9e8",
   "metadata": {},
   "source": [
    "注：运用sort对数组进行排序，会返回一个排序好的数组，不改变原来的数组；  \n",
    "对数组进行sort方法会把原来的数组排序好，什么都不返回。"
   ]
  },
  {
   "cell_type": "markdown",
   "id": "69face82",
   "metadata": {},
   "source": [
    "#### （3）数组索引与切片"
   ]
  },
  {
   "cell_type": "code",
   "execution_count": 14,
   "id": "fe786d18",
   "metadata": {},
   "outputs": [
    {
     "data": {
      "text/plain": [
       "3"
      ]
     },
     "execution_count": 14,
     "metadata": {},
     "output_type": "execute_result"
    }
   ],
   "source": [
    "arr6[0]"
   ]
  },
  {
   "cell_type": "code",
   "execution_count": 15,
   "id": "e4c31c1b",
   "metadata": {
    "scrolled": true
   },
   "outputs": [
    {
     "data": {
      "text/plain": [
       "26"
      ]
     },
     "execution_count": 15,
     "metadata": {},
     "output_type": "execute_result"
    }
   ],
   "source": [
    "arr6[-2]"
   ]
  },
  {
   "cell_type": "code",
   "execution_count": 16,
   "id": "be416979",
   "metadata": {},
   "outputs": [
    {
     "data": {
      "text/plain": [
       "array([ 5, 17])"
      ]
     },
     "execution_count": 16,
     "metadata": {},
     "output_type": "execute_result"
    }
   ],
   "source": [
    "arr6[1:3]"
   ]
  },
  {
   "cell_type": "markdown",
   "id": "145ecf28",
   "metadata": {},
   "source": [
    "### 2.数组的运算"
   ]
  },
  {
   "cell_type": "markdown",
   "id": "a3f5bcd6",
   "metadata": {},
   "source": [
    "#### （1）加减乘除运算"
   ]
  },
  {
   "cell_type": "code",
   "execution_count": 17,
   "id": "3ff1c75d",
   "metadata": {},
   "outputs": [
    {
     "data": {
      "text/plain": [
       "array([ 7.,  8.,  9., 10., 11.])"
      ]
     },
     "execution_count": 17,
     "metadata": {},
     "output_type": "execute_result"
    }
   ],
   "source": [
    "arr7 = np.array([6,7,8,9,10])\n",
    "arr8 = np.ones(5)\n",
    "arr7 + arr8"
   ]
  },
  {
   "cell_type": "code",
   "execution_count": 18,
   "id": "5276e768",
   "metadata": {},
   "outputs": [
    {
     "data": {
      "text/plain": [
       "array([5., 6., 7., 8., 9.])"
      ]
     },
     "execution_count": 18,
     "metadata": {},
     "output_type": "execute_result"
    }
   ],
   "source": [
    "arr7 - arr8"
   ]
  },
  {
   "cell_type": "code",
   "execution_count": 19,
   "id": "f3c1a63a",
   "metadata": {},
   "outputs": [
    {
     "data": {
      "text/plain": [
       "array([ 6.,  7.,  8.,  9., 10.])"
      ]
     },
     "execution_count": 19,
     "metadata": {},
     "output_type": "execute_result"
    }
   ],
   "source": [
    "arr7 * arr8"
   ]
  },
  {
   "cell_type": "code",
   "execution_count": 20,
   "id": "5cf94929",
   "metadata": {},
   "outputs": [
    {
     "data": {
      "text/plain": [
       "array([ 6.,  7.,  8.,  9., 10.])"
      ]
     },
     "execution_count": 20,
     "metadata": {},
     "output_type": "execute_result"
    }
   ],
   "source": [
    "arr7 / arr8"
   ]
  },
  {
   "cell_type": "code",
   "execution_count": 21,
   "id": "f2e384a6",
   "metadata": {
    "scrolled": true
   },
   "outputs": [
    {
     "data": {
      "text/plain": [
       "array([18, 21, 24, 27, 30])"
      ]
     },
     "execution_count": 21,
     "metadata": {},
     "output_type": "execute_result"
    }
   ],
   "source": [
    "3 * arr7"
   ]
  },
  {
   "cell_type": "code",
   "execution_count": 22,
   "id": "d2a795b9",
   "metadata": {
    "scrolled": true
   },
   "outputs": [
    {
     "data": {
      "text/plain": [
       "array([18, 21, 24, 27, 30])"
      ]
     },
     "execution_count": 22,
     "metadata": {},
     "output_type": "execute_result"
    }
   ],
   "source": [
    "arr7 *3"
   ]
  },
  {
   "cell_type": "markdown",
   "id": "99abfc50",
   "metadata": {},
   "source": [
    "#### （2）统计运算"
   ]
  },
  {
   "cell_type": "code",
   "execution_count": 23,
   "id": "e6f5a71a",
   "metadata": {},
   "outputs": [
    {
     "data": {
      "text/plain": [
       "10"
      ]
     },
     "execution_count": 23,
     "metadata": {},
     "output_type": "execute_result"
    }
   ],
   "source": [
    "arr7.max()"
   ]
  },
  {
   "cell_type": "code",
   "execution_count": 24,
   "id": "2a924015",
   "metadata": {},
   "outputs": [
    {
     "data": {
      "text/plain": [
       "6"
      ]
     },
     "execution_count": 24,
     "metadata": {},
     "output_type": "execute_result"
    }
   ],
   "source": [
    "arr7.min()"
   ]
  },
  {
   "cell_type": "code",
   "execution_count": 25,
   "id": "55fcd4a3",
   "metadata": {},
   "outputs": [
    {
     "data": {
      "text/plain": [
       "40"
      ]
     },
     "execution_count": 25,
     "metadata": {},
     "output_type": "execute_result"
    }
   ],
   "source": [
    "arr7.sum()"
   ]
  },
  {
   "cell_type": "code",
   "execution_count": 26,
   "id": "033cd082",
   "metadata": {},
   "outputs": [
    {
     "data": {
      "text/plain": [
       "8.0"
      ]
     },
     "execution_count": 26,
     "metadata": {},
     "output_type": "execute_result"
    }
   ],
   "source": [
    "arr7.mean()"
   ]
  },
  {
   "cell_type": "markdown",
   "id": "dde4cabd",
   "metadata": {},
   "source": [
    "#### （3）根据条件筛选数组元素"
   ]
  },
  {
   "cell_type": "code",
   "execution_count": 27,
   "id": "46a378fe",
   "metadata": {},
   "outputs": [],
   "source": [
    "arr9 = np.array([-22,3,65,9,11,7])"
   ]
  },
  {
   "cell_type": "code",
   "execution_count": 28,
   "id": "cf79a821",
   "metadata": {},
   "outputs": [
    {
     "data": {
      "text/plain": [
       "array([65,  9, 11,  7])"
      ]
     },
     "execution_count": 28,
     "metadata": {},
     "output_type": "execute_result"
    }
   ],
   "source": [
    "arr9[arr9 > 6]"
   ]
  },
  {
   "cell_type": "markdown",
   "id": "e7d80886",
   "metadata": {},
   "source": [
    "#### （4）逻辑运算"
   ]
  },
  {
   "cell_type": "markdown",
   "id": "0b619f78",
   "metadata": {},
   "source": [
    "与（and）"
   ]
  },
  {
   "cell_type": "code",
   "execution_count": 29,
   "id": "4ac7fe35",
   "metadata": {},
   "outputs": [
    {
     "data": {
      "text/plain": [
       "array([9, 7])"
      ]
     },
     "execution_count": 29,
     "metadata": {},
     "output_type": "execute_result"
    }
   ],
   "source": [
    "arr9[(arr9 > 6)&(arr9 < 10)]"
   ]
  },
  {
   "cell_type": "markdown",
   "id": "a34b2731",
   "metadata": {},
   "source": [
    "或（or）"
   ]
  },
  {
   "cell_type": "code",
   "execution_count": 30,
   "id": "f9d82cd6",
   "metadata": {},
   "outputs": [
    {
     "data": {
      "text/plain": [
       "array([-22,   3,  65,  11])"
      ]
     },
     "execution_count": 30,
     "metadata": {},
     "output_type": "execute_result"
    }
   ],
   "source": [
    "arr9[(arr9 < 6)|(arr9 > 10)]"
   ]
  },
  {
   "cell_type": "markdown",
   "id": "1f3eb500",
   "metadata": {},
   "source": [
    "非（not）"
   ]
  },
  {
   "cell_type": "code",
   "execution_count": 31,
   "id": "272b02fa",
   "metadata": {},
   "outputs": [
    {
     "data": {
      "text/plain": [
       "array([-22,   3])"
      ]
     },
     "execution_count": 31,
     "metadata": {},
     "output_type": "execute_result"
    }
   ],
   "source": [
    "arr9[~(arr9 > 6)]"
   ]
  }
 ],
 "metadata": {
  "kernelspec": {
   "display_name": "Python 3 (ipykernel)",
   "language": "python",
   "name": "python3"
  },
  "language_info": {
   "codemirror_mode": {
    "name": "ipython",
    "version": 3
   },
   "file_extension": ".py",
   "mimetype": "text/x-python",
   "name": "python",
   "nbconvert_exporter": "python",
   "pygments_lexer": "ipython3",
   "version": "3.10.13"
  }
 },
 "nbformat": 4,
 "nbformat_minor": 5
}
