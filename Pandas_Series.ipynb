{
 "cells": [
  {
   "cell_type": "markdown",
   "id": "6d7b3e41",
   "metadata": {},
   "source": [
    "# Pandas中Series的基础操作"
   ]
  },
  {
   "cell_type": "code",
   "execution_count": 1,
   "id": "1a13dbda",
   "metadata": {},
   "outputs": [],
   "source": [
    "import pandas as pd"
   ]
  },
  {
   "cell_type": "markdown",
   "id": "7051e54f",
   "metadata": {},
   "source": [
    "## 一、Series——pandas中的数组"
   ]
  },
  {
   "cell_type": "markdown",
   "id": "8d2c69ae",
   "metadata": {},
   "source": [
    "### 1. Series及其属性"
   ]
  },
  {
   "cell_type": "markdown",
   "id": "cfe44603",
   "metadata": {},
   "source": [
    "#### （1）创建Series"
   ]
  },
  {
   "cell_type": "code",
   "execution_count": 2,
   "id": "d0c5b297",
   "metadata": {},
   "outputs": [
    {
     "data": {
      "text/plain": [
       "0     5\n",
       "1    17\n",
       "2     3\n",
       "3    26\n",
       "4    31\n",
       "dtype: int64"
      ]
     },
     "execution_count": 2,
     "metadata": {},
     "output_type": "execute_result"
    }
   ],
   "source": [
    "s1 = pd.Series([5,17,3,26,31])\n",
    "s1"
   ]
  },
  {
   "cell_type": "markdown",
   "id": "cc1c918e",
   "metadata": {},
   "source": [
    "注：Series中的元素有索引，索引的序号从0开始  \n",
    "dtype表示元素的种类"
   ]
  },
  {
   "cell_type": "markdown",
   "id": "365dcd9e",
   "metadata": {},
   "source": [
    "#### （2）获取Series中的元素值"
   ]
  },
  {
   "cell_type": "code",
   "execution_count": 3,
   "id": "f37594be",
   "metadata": {},
   "outputs": [
    {
     "data": {
      "text/plain": [
       "array([ 5, 17,  3, 26, 31])"
      ]
     },
     "execution_count": 3,
     "metadata": {},
     "output_type": "execute_result"
    }
   ],
   "source": [
    "s1.values"
   ]
  },
  {
   "cell_type": "markdown",
   "id": "0daa6bc3",
   "metadata": {},
   "source": [
    "#### （3）获取Series中的索引值"
   ]
  },
  {
   "cell_type": "code",
   "execution_count": 4,
   "id": "5064fa1c",
   "metadata": {},
   "outputs": [
    {
     "data": {
      "text/plain": [
       "RangeIndex(start=0, stop=5, step=1)"
      ]
     },
     "execution_count": 4,
     "metadata": {},
     "output_type": "execute_result"
    }
   ],
   "source": [
    "s1.index"
   ]
  },
  {
   "cell_type": "markdown",
   "id": "87550405",
   "metadata": {},
   "source": [
    "注：从0开始，终止值为5（不包括5），步长为1"
   ]
  },
  {
   "cell_type": "markdown",
   "id": "25301ac9",
   "metadata": {},
   "source": [
    "### 2. Series的索引取值与切片"
   ]
  },
  {
   "cell_type": "code",
   "execution_count": 5,
   "id": "b2608ca6",
   "metadata": {},
   "outputs": [
    {
     "data": {
      "text/plain": [
       "3"
      ]
     },
     "execution_count": 5,
     "metadata": {},
     "output_type": "execute_result"
    }
   ],
   "source": [
    "s1[2]"
   ]
  },
  {
   "cell_type": "code",
   "execution_count": 6,
   "id": "1cc444c5",
   "metadata": {},
   "outputs": [
    {
     "data": {
      "text/plain": [
       "1    17\n",
       "2     3\n",
       "dtype: int64"
      ]
     },
     "execution_count": 6,
     "metadata": {},
     "output_type": "execute_result"
    }
   ],
   "source": [
    "s1[1:3]"
   ]
  },
  {
   "cell_type": "markdown",
   "id": "2398d457",
   "metadata": {},
   "source": [
    "### 3. 构建Series标签索引"
   ]
  },
  {
   "cell_type": "code",
   "execution_count": 7,
   "id": "6e9cb579",
   "metadata": {},
   "outputs": [
    {
     "data": {
      "text/plain": [
       "a     5\n",
       "b    17\n",
       "c     3\n",
       "d    26\n",
       "e    31\n",
       "dtype: int64"
      ]
     },
     "execution_count": 7,
     "metadata": {},
     "output_type": "execute_result"
    }
   ],
   "source": [
    "s2 = pd.Series([5,17,3,26,31],[\"a\",\"b\",\"c\",\"d\",\"e\"])\n",
    "s2"
   ]
  },
  {
   "cell_type": "markdown",
   "id": "a0fdbb09",
   "metadata": {},
   "source": [
    "注：标签索引&位置索引：a,b,c,d,e & 0,1,2,3,4  \n",
    "标签必须是字符，用“”包起来"
   ]
  },
  {
   "cell_type": "code",
   "execution_count": 71,
   "id": "6aafc5f1",
   "metadata": {},
   "outputs": [
    {
     "data": {
      "text/plain": [
       "Index(['a', 'b', 'c', 'd', 'e'], dtype='object')"
      ]
     },
     "execution_count": 71,
     "metadata": {},
     "output_type": "execute_result"
    }
   ],
   "source": [
    "s2.index"
   ]
  },
  {
   "cell_type": "markdown",
   "id": "2816e736",
   "metadata": {},
   "source": [
    "#### （1）两种索引取值"
   ]
  },
  {
   "cell_type": "code",
   "execution_count": 8,
   "id": "a1fb5869",
   "metadata": {},
   "outputs": [
    {
     "name": "stderr",
     "output_type": "stream",
     "text": [
      "/var/folders/c5/wl5020591lz1g_q4qbdlp4b80000gn/T/ipykernel_51509/3318850340.py:1: FutureWarning: Series.__getitem__ treating keys as positions is deprecated. In a future version, integer keys will always be treated as labels (consistent with DataFrame behavior). To access a value by position, use `ser.iloc[pos]`\n",
      "  s2[2]\n"
     ]
    },
    {
     "data": {
      "text/plain": [
       "3"
      ]
     },
     "execution_count": 8,
     "metadata": {},
     "output_type": "execute_result"
    }
   ],
   "source": [
    "s2[2]"
   ]
  },
  {
   "cell_type": "code",
   "execution_count": 9,
   "id": "a6b9ff83",
   "metadata": {},
   "outputs": [
    {
     "data": {
      "text/plain": [
       "3"
      ]
     },
     "execution_count": 9,
     "metadata": {},
     "output_type": "execute_result"
    }
   ],
   "source": [
    "s2[\"c\"]"
   ]
  },
  {
   "cell_type": "markdown",
   "id": "a2f224b9",
   "metadata": {},
   "source": [
    "#### （2）两种索引切片"
   ]
  },
  {
   "cell_type": "code",
   "execution_count": 10,
   "id": "74c5d41d",
   "metadata": {},
   "outputs": [
    {
     "data": {
      "text/plain": [
       "b    17\n",
       "c     3\n",
       "dtype: int64"
      ]
     },
     "execution_count": 10,
     "metadata": {},
     "output_type": "execute_result"
    }
   ],
   "source": [
    "s2[1:3]"
   ]
  },
  {
   "cell_type": "code",
   "execution_count": 11,
   "id": "1428b7bd",
   "metadata": {},
   "outputs": [
    {
     "data": {
      "text/plain": [
       "b    17\n",
       "c     3\n",
       "dtype: int64"
      ]
     },
     "execution_count": 11,
     "metadata": {},
     "output_type": "execute_result"
    }
   ],
   "source": [
    "s2[\"b\":\"c\"]"
   ]
  },
  {
   "cell_type": "markdown",
   "id": "5ec20e72",
   "metadata": {},
   "source": [
    "注：标签索引与位置索引不同，其切片包括终止值元素"
   ]
  },
  {
   "cell_type": "markdown",
   "id": "ef2842c0",
   "metadata": {},
   "source": [
    "#### （3）用索引获得任意元素"
   ]
  },
  {
   "cell_type": "code",
   "execution_count": 12,
   "id": "f522a0dd",
   "metadata": {},
   "outputs": [
    {
     "data": {
      "text/plain": [
       "a     5\n",
       "d    26\n",
       "e    31\n",
       "dtype: int64"
      ]
     },
     "execution_count": 12,
     "metadata": {},
     "output_type": "execute_result"
    }
   ],
   "source": [
    "s2[[\"a\",\"d\",\"e\"]]"
   ]
  },
  {
   "cell_type": "code",
   "execution_count": 13,
   "id": "30360fa8",
   "metadata": {},
   "outputs": [
    {
     "name": "stderr",
     "output_type": "stream",
     "text": [
      "/var/folders/c5/wl5020591lz1g_q4qbdlp4b80000gn/T/ipykernel_51509/2529066882.py:1: FutureWarning: Series.__getitem__ treating keys as positions is deprecated. In a future version, integer keys will always be treated as labels (consistent with DataFrame behavior). To access a value by position, use `ser.iloc[pos]`\n",
      "  s2[[0,3,4]]\n"
     ]
    },
    {
     "data": {
      "text/plain": [
       "a     5\n",
       "d    26\n",
       "e    31\n",
       "dtype: int64"
      ]
     },
     "execution_count": 13,
     "metadata": {},
     "output_type": "execute_result"
    }
   ],
   "source": [
    "s2[[0,3,4]]"
   ]
  },
  {
   "cell_type": "markdown",
   "id": "e2798ae5",
   "metadata": {},
   "source": [
    "#### （4）区别两种索引方式：loc和iloc"
   ]
  },
  {
   "cell_type": "markdown",
   "id": "bba6d3d6",
   "metadata": {},
   "source": [
    "标签索引也可以设置整数作为标签，但是取值和切片时所采用的索引值不同；  \n",
    "取值时采用标签进行索引；\n",
    "切片时采用位置进行索引。"
   ]
  },
  {
   "cell_type": "code",
   "execution_count": 14,
   "id": "ead5b907",
   "metadata": {},
   "outputs": [
    {
     "data": {
      "text/plain": [
       "1     5\n",
       "3    17\n",
       "5     3\n",
       "7    26\n",
       "9    31\n",
       "dtype: int64"
      ]
     },
     "execution_count": 14,
     "metadata": {},
     "output_type": "execute_result"
    }
   ],
   "source": [
    "s3 = pd.Series([5,17,3,26,31],[1,3,5,7,9])\n",
    "s3"
   ]
  },
  {
   "cell_type": "code",
   "execution_count": 15,
   "id": "54c106d7",
   "metadata": {},
   "outputs": [
    {
     "data": {
      "text/plain": [
       "17"
      ]
     },
     "execution_count": 15,
     "metadata": {},
     "output_type": "execute_result"
    }
   ],
   "source": [
    "s3[3]"
   ]
  },
  {
   "cell_type": "code",
   "execution_count": 16,
   "id": "6ff0a6af",
   "metadata": {},
   "outputs": [
    {
     "data": {
      "text/plain": [
       "3    17\n",
       "5     3\n",
       "dtype: int64"
      ]
     },
     "execution_count": 16,
     "metadata": {},
     "output_type": "execute_result"
    }
   ],
   "source": [
    "s3[1:3]"
   ]
  },
  {
   "cell_type": "markdown",
   "id": "1f0ad2ff",
   "metadata": {},
   "source": [
    "##### loc——用标签索引"
   ]
  },
  {
   "cell_type": "code",
   "execution_count": 17,
   "id": "cb9ac9be",
   "metadata": {},
   "outputs": [
    {
     "data": {
      "text/plain": [
       "17"
      ]
     },
     "execution_count": 17,
     "metadata": {},
     "output_type": "execute_result"
    }
   ],
   "source": [
    "s3.loc[3]"
   ]
  },
  {
   "cell_type": "code",
   "execution_count": 18,
   "id": "fa122a85",
   "metadata": {},
   "outputs": [
    {
     "data": {
      "text/plain": [
       "1     5\n",
       "3    17\n",
       "dtype: int64"
      ]
     },
     "execution_count": 18,
     "metadata": {},
     "output_type": "execute_result"
    }
   ],
   "source": [
    "s3.loc[1:3]"
   ]
  },
  {
   "cell_type": "markdown",
   "id": "11ad685f",
   "metadata": {},
   "source": [
    "##### iloc——用位置索引"
   ]
  },
  {
   "cell_type": "code",
   "execution_count": 19,
   "id": "aeaea40e",
   "metadata": {},
   "outputs": [
    {
     "data": {
      "text/plain": [
       "26"
      ]
     },
     "execution_count": 19,
     "metadata": {},
     "output_type": "execute_result"
    }
   ],
   "source": [
    "s3.iloc[3]"
   ]
  },
  {
   "cell_type": "code",
   "execution_count": 20,
   "id": "941a9a87",
   "metadata": {},
   "outputs": [
    {
     "data": {
      "text/plain": [
       "3    17\n",
       "5     3\n",
       "dtype: int64"
      ]
     },
     "execution_count": 20,
     "metadata": {},
     "output_type": "execute_result"
    }
   ],
   "source": [
    "s3.iloc[1:3]"
   ]
  },
  {
   "cell_type": "markdown",
   "id": "fd55e90e",
   "metadata": {},
   "source": [
    "### 4.运用字典创建Series"
   ]
  },
  {
   "cell_type": "code",
   "execution_count": 21,
   "id": "b7ca550f",
   "metadata": {},
   "outputs": [
    {
     "data": {
      "text/plain": [
       "青菜     4.1\n",
       "白萝卜    2.2\n",
       "西红柿    5.3\n",
       "土豆     3.7\n",
       "黄瓜     6.8\n",
       "dtype: float64"
      ]
     },
     "execution_count": 21,
     "metadata": {},
     "output_type": "execute_result"
    }
   ],
   "source": [
    "s4 = pd.Series({\"青菜\":4.1,\"白萝卜\":2.2,\"西红柿\":5.3,\"土豆\":3.7,\"黄瓜\":6.8})\n",
    "s4"
   ]
  },
  {
   "cell_type": "markdown",
   "id": "99f9aa2e",
   "metadata": {},
   "source": [
    "#### （1）查看标签是否存在"
   ]
  },
  {
   "cell_type": "code",
   "execution_count": 22,
   "id": "7a17793b",
   "metadata": {},
   "outputs": [
    {
     "data": {
      "text/plain": [
       "True"
      ]
     },
     "execution_count": 22,
     "metadata": {},
     "output_type": "execute_result"
    }
   ],
   "source": [
    "\"青菜\" in s4"
   ]
  },
  {
   "cell_type": "markdown",
   "id": "b6c13d8a",
   "metadata": {},
   "source": [
    "#### （2）修改Series中的值"
   ]
  },
  {
   "cell_type": "code",
   "execution_count": 23,
   "id": "db34af3c",
   "metadata": {},
   "outputs": [],
   "source": [
    "s4.loc[\"青菜\"] = 4.5"
   ]
  },
  {
   "cell_type": "code",
   "execution_count": 24,
   "id": "5c21351b",
   "metadata": {},
   "outputs": [],
   "source": [
    "s4.iloc[0] = 4.5"
   ]
  },
  {
   "cell_type": "code",
   "execution_count": 25,
   "id": "786688c2",
   "metadata": {},
   "outputs": [
    {
     "data": {
      "text/plain": [
       "4.5"
      ]
     },
     "execution_count": 25,
     "metadata": {},
     "output_type": "execute_result"
    }
   ],
   "source": [
    "s4.iloc[0]"
   ]
  },
  {
   "cell_type": "markdown",
   "id": "dcafad6b",
   "metadata": {},
   "source": [
    "### 5.根据条件筛选Series元素"
   ]
  },
  {
   "cell_type": "code",
   "execution_count": 26,
   "id": "e420a2a8",
   "metadata": {},
   "outputs": [
    {
     "data": {
      "text/plain": [
       "西红柿    5.3\n",
       "黄瓜     6.8\n",
       "dtype: float64"
      ]
     },
     "execution_count": 26,
     "metadata": {},
     "output_type": "execute_result"
    }
   ],
   "source": [
    "s4[s4>5]"
   ]
  },
  {
   "cell_type": "code",
   "execution_count": 27,
   "id": "48bbc82e",
   "metadata": {},
   "outputs": [
    {
     "data": {
      "text/plain": [
       "白萝卜    2.2\n",
       "西红柿    5.3\n",
       "黄瓜     6.8\n",
       "dtype: float64"
      ]
     },
     "execution_count": 27,
     "metadata": {},
     "output_type": "execute_result"
    }
   ],
   "source": [
    "s4[(s4>5)|(s4<3)]"
   ]
  },
  {
   "cell_type": "markdown",
   "id": "e096898a",
   "metadata": {},
   "source": [
    "## 二、Series相关操作"
   ]
  },
  {
   "cell_type": "markdown",
   "id": "0fa872a8",
   "metadata": {},
   "source": [
    "### 1.Series的运算"
   ]
  },
  {
   "cell_type": "markdown",
   "id": "c44786cc",
   "metadata": {},
   "source": [
    "#### （1）加减乘除运算"
   ]
  },
  {
   "cell_type": "code",
   "execution_count": 28,
   "id": "df88461c",
   "metadata": {},
   "outputs": [],
   "source": [
    "s5 = pd.Series([92,84,72,83,65],[\"小明\",\"小红\",\"小华\",\"小杰\",\"小丽\"])\n",
    "s6 = pd.Series([88,81,67,93,79],[\"小明\",\"小娟\",\"小华\",\"小丽\",\"小彤\"])"
   ]
  },
  {
   "cell_type": "code",
   "execution_count": 29,
   "id": "db688837",
   "metadata": {},
   "outputs": [
    {
     "name": "stdout",
     "output_type": "stream",
     "text": [
      "小明    92\n",
      "小红    84\n",
      "小华    72\n",
      "小杰    83\n",
      "小丽    65\n",
      "dtype: int64\n",
      "小明    88\n",
      "小娟    81\n",
      "小华    67\n",
      "小丽    93\n",
      "小彤    79\n",
      "dtype: int64\n"
     ]
    }
   ],
   "source": [
    "print(s5)\n",
    "print(s6)"
   ]
  },
  {
   "cell_type": "code",
   "execution_count": 30,
   "id": "bc49520d",
   "metadata": {},
   "outputs": [
    {
     "data": {
      "text/plain": [
       "小明    102\n",
       "小红     94\n",
       "小华     82\n",
       "小杰     93\n",
       "小丽     75\n",
       "dtype: int64"
      ]
     },
     "execution_count": 30,
     "metadata": {},
     "output_type": "execute_result"
    }
   ],
   "source": [
    "ss5 = s5 + 10\n",
    "ss5"
   ]
  },
  {
   "cell_type": "code",
   "execution_count": 31,
   "id": "11b65752",
   "metadata": {},
   "outputs": [
    {
     "data": {
      "text/plain": [
       "小明    920\n",
       "小红    840\n",
       "小华    720\n",
       "小杰    830\n",
       "小丽    650\n",
       "dtype: int64"
      ]
     },
     "execution_count": 31,
     "metadata": {},
     "output_type": "execute_result"
    }
   ],
   "source": [
    "sss5 = s5 * 10\n",
    "sss5"
   ]
  },
  {
   "cell_type": "code",
   "execution_count": 32,
   "id": "a4e30507",
   "metadata": {},
   "outputs": [
    {
     "data": {
      "text/plain": [
       "小丽    158.0\n",
       "小华    139.0\n",
       "小娟      NaN\n",
       "小彤      NaN\n",
       "小明    180.0\n",
       "小杰      NaN\n",
       "小红      NaN\n",
       "dtype: float64"
      ]
     },
     "execution_count": 32,
     "metadata": {},
     "output_type": "execute_result"
    }
   ],
   "source": [
    "s5 + s6"
   ]
  },
  {
   "cell_type": "markdown",
   "id": "64fb584f",
   "metadata": {},
   "source": [
    "注：两个Series中没有对应标签的元素，相加后的结果为NaN "
   ]
  },
  {
   "cell_type": "markdown",
   "id": "9e2a431f",
   "metadata": {},
   "source": [
    "##### 加法"
   ]
  },
  {
   "cell_type": "code",
   "execution_count": 33,
   "id": "3277a52e",
   "metadata": {},
   "outputs": [
    {
     "data": {
      "text/plain": [
       "小丽    158.0\n",
       "小华    139.0\n",
       "小娟     81.0\n",
       "小彤     79.0\n",
       "小明    180.0\n",
       "小杰     83.0\n",
       "小红     84.0\n",
       "dtype: float64"
      ]
     },
     "execution_count": 33,
     "metadata": {},
     "output_type": "execute_result"
    }
   ],
   "source": [
    "s5.add(s6,fill_value=0)"
   ]
  },
  {
   "cell_type": "markdown",
   "id": "018ca6c6",
   "metadata": {},
   "source": [
    "注：运用add函数对两个Series进行相加，没有对应标签的元素会赋值为0（fill_value=0）"
   ]
  },
  {
   "cell_type": "markdown",
   "id": "b925d9da",
   "metadata": {},
   "source": [
    "##### 减法"
   ]
  },
  {
   "cell_type": "code",
   "execution_count": 34,
   "id": "7d5637eb",
   "metadata": {},
   "outputs": [
    {
     "data": {
      "text/plain": [
       "小丽   -28.0\n",
       "小华     5.0\n",
       "小娟   -81.0\n",
       "小彤   -79.0\n",
       "小明     4.0\n",
       "小杰    83.0\n",
       "小红    84.0\n",
       "dtype: float64"
      ]
     },
     "execution_count": 34,
     "metadata": {},
     "output_type": "execute_result"
    }
   ],
   "source": [
    "s5.sub(s6,fill_value=0)"
   ]
  },
  {
   "cell_type": "markdown",
   "id": "cf3355a8",
   "metadata": {},
   "source": [
    "##### 乘法"
   ]
  },
  {
   "cell_type": "code",
   "execution_count": 35,
   "id": "9cded1fd",
   "metadata": {},
   "outputs": [
    {
     "data": {
      "text/plain": [
       "小丽    6045.0\n",
       "小华    4824.0\n",
       "小娟       0.0\n",
       "小彤       0.0\n",
       "小明    8096.0\n",
       "小杰       0.0\n",
       "小红       0.0\n",
       "dtype: float64"
      ]
     },
     "execution_count": 35,
     "metadata": {},
     "output_type": "execute_result"
    }
   ],
   "source": [
    "s5.mul(s6,fill_value=0)"
   ]
  },
  {
   "cell_type": "markdown",
   "id": "8f2549da",
   "metadata": {},
   "source": [
    "##### 除法"
   ]
  },
  {
   "cell_type": "code",
   "execution_count": 36,
   "id": "62f425e9",
   "metadata": {},
   "outputs": [
    {
     "data": {
      "text/plain": [
       "小丽    0.698925\n",
       "小华    1.074627\n",
       "小娟    0.000000\n",
       "小彤    0.000000\n",
       "小明    1.045455\n",
       "小杰         inf\n",
       "小红         inf\n",
       "dtype: float64"
      ]
     },
     "execution_count": 36,
     "metadata": {},
     "output_type": "execute_result"
    }
   ],
   "source": [
    "s5.div(s6,fill_value=0)"
   ]
  },
  {
   "cell_type": "markdown",
   "id": "857a4de7",
   "metadata": {},
   "source": [
    "#### （2）统计运算"
   ]
  },
  {
   "cell_type": "code",
   "execution_count": 37,
   "id": "8e2aca65",
   "metadata": {},
   "outputs": [
    {
     "data": {
      "text/plain": [
       "92"
      ]
     },
     "execution_count": 37,
     "metadata": {},
     "output_type": "execute_result"
    }
   ],
   "source": [
    "s5.max()"
   ]
  },
  {
   "cell_type": "code",
   "execution_count": 38,
   "id": "35c80f88",
   "metadata": {},
   "outputs": [
    {
     "data": {
      "text/plain": [
       "65"
      ]
     },
     "execution_count": 38,
     "metadata": {},
     "output_type": "execute_result"
    }
   ],
   "source": [
    "s5.min()"
   ]
  },
  {
   "cell_type": "code",
   "execution_count": 39,
   "id": "ad1c0ba0",
   "metadata": {},
   "outputs": [
    {
     "data": {
      "text/plain": [
       "408"
      ]
     },
     "execution_count": 39,
     "metadata": {},
     "output_type": "execute_result"
    }
   ],
   "source": [
    "s6.sum()"
   ]
  },
  {
   "cell_type": "code",
   "execution_count": 40,
   "id": "8535a0ab",
   "metadata": {},
   "outputs": [
    {
     "data": {
      "text/plain": [
       "81.6"
      ]
     },
     "execution_count": 40,
     "metadata": {},
     "output_type": "execute_result"
    }
   ],
   "source": [
    "s6.mean()"
   ]
  },
  {
   "cell_type": "markdown",
   "id": "2420c1ab",
   "metadata": {},
   "source": [
    "#### （3）描述性统计"
   ]
  },
  {
   "cell_type": "code",
   "execution_count": 41,
   "id": "1333d433",
   "metadata": {},
   "outputs": [
    {
     "data": {
      "text/plain": [
       "count     5.00000\n",
       "mean     79.20000\n",
       "std      10.66302\n",
       "min      65.00000\n",
       "25%      72.00000\n",
       "50%      83.00000\n",
       "75%      84.00000\n",
       "max      92.00000\n",
       "dtype: float64"
      ]
     },
     "execution_count": 41,
     "metadata": {},
     "output_type": "execute_result"
    }
   ],
   "source": [
    "s5.describe()"
   ]
  },
  {
   "cell_type": "code",
   "execution_count": 42,
   "id": "a891cb49",
   "metadata": {},
   "outputs": [
    {
     "data": {
      "text/plain": [
       "count     5.000000\n",
       "mean     81.600000\n",
       "std       9.889388\n",
       "min      67.000000\n",
       "25%      79.000000\n",
       "50%      81.000000\n",
       "75%      88.000000\n",
       "max      93.000000\n",
       "dtype: float64"
      ]
     },
     "execution_count": 42,
     "metadata": {},
     "output_type": "execute_result"
    }
   ],
   "source": [
    "s6.describe()"
   ]
  },
  {
   "cell_type": "markdown",
   "id": "f82f54c4",
   "metadata": {},
   "source": [
    "### 2.对Series中元素分别操作"
   ]
  },
  {
   "cell_type": "markdown",
   "id": "9c5c92c8",
   "metadata": {},
   "source": [
    "广播机制"
   ]
  },
  {
   "cell_type": "code",
   "execution_count": 75,
   "id": "5f9ce4f7",
   "metadata": {},
   "outputs": [
    {
     "data": {
      "text/plain": [
       "小明    46.0\n",
       "小红    42.0\n",
       "小华    36.0\n",
       "小杰    41.5\n",
       "小丽    32.5\n",
       "dtype: float64"
      ]
     },
     "execution_count": 75,
     "metadata": {},
     "output_type": "execute_result"
    }
   ],
   "source": [
    "s5 * 0.5"
   ]
  },
  {
   "cell_type": "markdown",
   "id": "8b0e023a",
   "metadata": {},
   "source": [
    "对Series中元素分别操作:apply函数"
   ]
  },
  {
   "cell_type": "code",
   "execution_count": 44,
   "id": "ccd5cf87",
   "metadata": {},
   "outputs": [],
   "source": [
    "def get_grade_from_score(score):\n",
    "    if score >=90:\n",
    "        return \"A\"\n",
    "    elif score >=80:\n",
    "        return \"B\"\n",
    "    elif score >=70:\n",
    "        return \"C\"\n",
    "    else:\n",
    "        return \"D\""
   ]
  },
  {
   "cell_type": "code",
   "execution_count": 45,
   "id": "9a2a3e2f",
   "metadata": {},
   "outputs": [
    {
     "data": {
      "text/plain": [
       "小明    A\n",
       "小红    B\n",
       "小华    C\n",
       "小杰    B\n",
       "小丽    D\n",
       "dtype: object"
      ]
     },
     "execution_count": 45,
     "metadata": {},
     "output_type": "execute_result"
    }
   ],
   "source": [
    "grades5 = s5.apply(get_grade_from_score)\n",
    "grades5"
   ]
  },
  {
   "cell_type": "code",
   "execution_count": 46,
   "id": "492177be",
   "metadata": {},
   "outputs": [
    {
     "data": {
      "text/plain": [
       "小明    B\n",
       "小娟    B\n",
       "小华    D\n",
       "小丽    A\n",
       "小彤    C\n",
       "dtype: object"
      ]
     },
     "execution_count": 46,
     "metadata": {},
     "output_type": "execute_result"
    }
   ],
   "source": [
    "grades6 = s6.apply(get_grade_from_score)\n",
    "grades6"
   ]
  },
  {
   "cell_type": "code",
   "execution_count": 83,
   "id": "f720f9a2",
   "metadata": {},
   "outputs": [
    {
     "data": {
      "text/plain": [
       "小明     合格\n",
       "小红     合格\n",
       "小华    不合格\n",
       "小杰     合格\n",
       "小丽    不合格\n",
       "dtype: object"
      ]
     },
     "execution_count": 83,
     "metadata": {},
     "output_type": "execute_result"
    }
   ],
   "source": [
    "grade_passed_5 = s5.apply(lambda x: \"合格\" if x >= 75 else \"不合格\")\n",
    "grade_passed_5"
   ]
  },
  {
   "cell_type": "markdown",
   "id": "1f24db72",
   "metadata": {},
   "source": [
    "## 补充：定义函数及匿名函数"
   ]
  },
  {
   "cell_type": "markdown",
   "id": "19076c6e",
   "metadata": {},
   "source": [
    "### 1.定义函数"
   ]
  },
  {
   "cell_type": "markdown",
   "id": "cf131515",
   "metadata": {},
   "source": [
    "定义函数的意义在于，之后在需要时可以随时调用该函数的内容"
   ]
  },
  {
   "cell_type": "markdown",
   "id": "7390eb2f",
   "metadata": {},
   "source": [
    "比如：一个计算圆的面积的函数"
   ]
  },
  {
   "cell_type": "code",
   "execution_count": 47,
   "id": "61323372",
   "metadata": {},
   "outputs": [],
   "source": [
    "def area_of_circle(radius):\n",
    "    circle_area = 3.14 * radius ** 2\n",
    "    return circle_area"
   ]
  },
  {
   "cell_type": "code",
   "execution_count": 48,
   "id": "8cbc05c3",
   "metadata": {},
   "outputs": [
    {
     "data": {
      "text/plain": [
       "12.56"
      ]
     },
     "execution_count": 48,
     "metadata": {},
     "output_type": "execute_result"
    }
   ],
   "source": [
    "circle_area1 = area_of_circle(2)\n",
    "circle_area1"
   ]
  },
  {
   "cell_type": "markdown",
   "id": "40ec984c",
   "metadata": {},
   "source": [
    "### 2. 高阶函数"
   ]
  },
  {
   "cell_type": "markdown",
   "id": "41bf377c",
   "metadata": {},
   "source": [
    "高阶函数就是把子函数作为参数，放进母函数中进行计算"
   ]
  },
  {
   "cell_type": "code",
   "execution_count": 49,
   "id": "c6cfa01e",
   "metadata": {},
   "outputs": [],
   "source": [
    "def calculate_square(num):\n",
    "    return num * num"
   ]
  },
  {
   "cell_type": "code",
   "execution_count": 50,
   "id": "7daefada",
   "metadata": {},
   "outputs": [
    {
     "data": {
      "text/plain": [
       "25"
      ]
     },
     "execution_count": 50,
     "metadata": {},
     "output_type": "execute_result"
    }
   ],
   "source": [
    "calculate_square(5)"
   ]
  },
  {
   "cell_type": "code",
   "execution_count": 51,
   "id": "1462764b",
   "metadata": {},
   "outputs": [],
   "source": [
    "def calculate_cube(num):\n",
    "    return num * num * num"
   ]
  },
  {
   "cell_type": "code",
   "execution_count": 52,
   "id": "1e14c493",
   "metadata": {},
   "outputs": [],
   "source": [
    "def print_with_vertical_bar(num, result):\n",
    "    print(f\"\"\"\n",
    "    | 数字参数 | {num} |\n",
    "    | 计算结果 | {result} |\"\"\")"
   ]
  },
  {
   "cell_type": "code",
   "execution_count": 53,
   "id": "783777ba",
   "metadata": {},
   "outputs": [
    {
     "name": "stdout",
     "output_type": "stream",
     "text": [
      "\n",
      "    | 数字参数 | 2 |\n",
      "    | 计算结果 | 10 |\n"
     ]
    }
   ],
   "source": [
    "print_with_vertical_bar(2, 10)"
   ]
  },
  {
   "cell_type": "markdown",
   "id": "24e5e679",
   "metadata": {},
   "source": [
    "注意：母函数中的需要重新设置，在函数"
   ]
  },
  {
   "cell_type": "code",
   "execution_count": 54,
   "id": "eadab527",
   "metadata": {},
   "outputs": [],
   "source": [
    "def calculate_and_print(num, calculator, formatter):\n",
    "    result = calculator(num)\n",
    "    formatter(num, result)"
   ]
  },
  {
   "cell_type": "code",
   "execution_count": 55,
   "id": "bc47fb96",
   "metadata": {},
   "outputs": [
    {
     "name": "stdout",
     "output_type": "stream",
     "text": [
      "\n",
      "    | 数字参数 | 3 |\n",
      "    | 计算结果 | 9 |\n"
     ]
    }
   ],
   "source": [
    "calculate_and_print(3, calculate_square, print_with_vertical_bar)"
   ]
  },
  {
   "cell_type": "markdown",
   "id": "a731a8d7",
   "metadata": {},
   "source": [
    "### 3.匿名函数lambda"
   ]
  },
  {
   "cell_type": "markdown",
   "id": "effc0de0",
   "metadata": {},
   "source": [
    "Lambda函数也被称为匿名(没有名称)函数，它直接接受参数的数量以及使用该参数执行的条件或操作，该参数以冒号分隔，并返回最终结果。为了在大型代码库上编写代码时执行一项小任务，或者在函数中执行一项小任务，便在正常过程中使用lambda函数。  \n",
    "函数格式：lambda variable_list: expression（function/expersion）"
   ]
  },
  {
   "cell_type": "markdown",
   "id": "68c79e15",
   "metadata": {},
   "source": [
    "#### （1）匿名函数的直接使用"
   ]
  },
  {
   "cell_type": "code",
   "execution_count": 56,
   "id": "9feecc77",
   "metadata": {},
   "outputs": [
    {
     "data": {
      "text/plain": [
       "9"
      ]
     },
     "execution_count": 56,
     "metadata": {},
     "output_type": "execute_result"
    }
   ],
   "source": [
    "a = lambda x: x ** 2\n",
    "a(3)"
   ]
  },
  {
   "cell_type": "code",
   "execution_count": 57,
   "id": "3ba8b9a6",
   "metadata": {},
   "outputs": [
    {
     "data": {
      "text/plain": [
       "'Odd'"
      ]
     },
     "execution_count": 57,
     "metadata": {},
     "output_type": "execute_result"
    }
   ],
   "source": [
    "b = lambda x: \"Even\" if x % 2 == 0 else \"Odd\"\n",
    "b(9)"
   ]
  },
  {
   "cell_type": "code",
   "execution_count": 58,
   "id": "c4dfccc9",
   "metadata": {},
   "outputs": [],
   "source": [
    "def calculate_some_num(x, y, calculate_way):\n",
    "    result = calculate_way(x, y)\n",
    "    return result"
   ]
  },
  {
   "cell_type": "code",
   "execution_count": 59,
   "id": "14a069d0",
   "metadata": {},
   "outputs": [
    {
     "data": {
      "text/plain": [
       "21"
      ]
     },
     "execution_count": 59,
     "metadata": {},
     "output_type": "execute_result"
    }
   ],
   "source": [
    "calculate_some_num(3, 7,lambda num1, num2: num1 * num2)"
   ]
  },
  {
   "cell_type": "markdown",
   "id": "d82ac23e",
   "metadata": {},
   "source": [
    "假设有一个整数列表，必须返回三个输出：  \n",
    "一个列表中所有偶数的和；  \n",
    "一个列表中所有奇数的和；  \n",
    "一个所有能被三整除的数的和。"
   ]
  },
  {
   "cell_type": "markdown",
   "id": "5c08ab6e",
   "metadata": {},
   "source": [
    "#### （2）将匿名函数放入函数中使用"
   ]
  },
  {
   "cell_type": "code",
   "execution_count": 60,
   "id": "bac7df22",
   "metadata": {},
   "outputs": [],
   "source": [
    "list_number = [11,14,21,56,78,45,29,28]"
   ]
  },
  {
   "cell_type": "code",
   "execution_count": 61,
   "id": "fec39e9e",
   "metadata": {},
   "outputs": [],
   "source": [
    "x = lambda a: a%2 == 0\n",
    "y = lambda a: a%2 != 0\n",
    "z = lambda a: a%3 == 0"
   ]
  },
  {
   "cell_type": "code",
   "execution_count": 62,
   "id": "41036e9b",
   "metadata": {},
   "outputs": [],
   "source": [
    "def return_sum(func, lst):\n",
    "  result = 0\n",
    "  for i in lst:\n",
    "    if func(i):\n",
    "      result = result + i\n",
    "  return result"
   ]
  },
  {
   "cell_type": "code",
   "execution_count": 63,
   "id": "8c308c65",
   "metadata": {},
   "outputs": [
    {
     "data": {
      "text/plain": [
       "176"
      ]
     },
     "execution_count": 63,
     "metadata": {},
     "output_type": "execute_result"
    }
   ],
   "source": [
    "return_sum(x, list_number)"
   ]
  },
  {
   "cell_type": "code",
   "execution_count": 64,
   "id": "ce5b9f67",
   "metadata": {},
   "outputs": [
    {
     "data": {
      "text/plain": [
       "106"
      ]
     },
     "execution_count": 64,
     "metadata": {},
     "output_type": "execute_result"
    }
   ],
   "source": [
    "return_sum(y, list_number)"
   ]
  },
  {
   "cell_type": "code",
   "execution_count": 65,
   "id": "90642733",
   "metadata": {},
   "outputs": [
    {
     "data": {
      "text/plain": [
       "144"
      ]
     },
     "execution_count": 65,
     "metadata": {},
     "output_type": "execute_result"
    }
   ],
   "source": [
    "return_sum(z, list_number)"
   ]
  },
  {
   "cell_type": "markdown",
   "id": "db82e320",
   "metadata": {},
   "source": [
    "### 4.python内置迭代器"
   ]
  },
  {
   "cell_type": "markdown",
   "id": "5da316a6",
   "metadata": {},
   "source": [
    "#### （1）map函数"
   ]
  },
  {
   "cell_type": "markdown",
   "id": "147299de",
   "metadata": {},
   "source": [
    "map(function, iterable, ...)  \n",
    "map()函数接受一个函数和一个可迭代对象作为参数，将函数应用于可迭代对象的每个元素，并返回一个包含结果的迭代器。"
   ]
  },
  {
   "cell_type": "code",
   "execution_count": 66,
   "id": "e92de166",
   "metadata": {},
   "outputs": [
    {
     "name": "stdout",
     "output_type": "stream",
     "text": [
      "[4, 16, 36, 64]\n"
     ]
    }
   ],
   "source": [
    "# 将列表中的每个元素乘方\n",
    "arr = [2,4,6,8] \n",
    "arr = map(lambda x: x*x, arr)\n",
    "print(list(arr))"
   ]
  },
  {
   "cell_type": "code",
   "execution_count": 67,
   "id": "62bf98c5",
   "metadata": {},
   "outputs": [
    {
     "name": "stdout",
     "output_type": "stream",
     "text": [
      "['John Doe', 'Rahul Garg', 'Angela Steven']\n"
     ]
    }
   ],
   "source": [
    "# 提取字典中学生的名字\n",
    "students = [\n",
    "            {\"name\": \"John Doe\",\n",
    "             \"father name\": \"Robert Doe\",\n",
    "             \"Address\": \"123 Hall street\"\n",
    "             },\n",
    "            {\n",
    "              \"name\": \"Rahul Garg\",\n",
    "              \"father name\": \"Kamal Garg\",\n",
    "              \"Address\": \"3-Upper-Street corner\"\n",
    "            },\n",
    "            {\n",
    "              \"name\": \"Angela Steven\",\n",
    "             \"father name\": \"Jabob steven\",\n",
    "             \"Address\": \"Unknown\"\n",
    "            }\n",
    "]\n",
    "print(list(map(lambda student: student['name'], students)))"
   ]
  },
  {
   "cell_type": "markdown",
   "id": "9a3d0eb2",
   "metadata": {},
   "source": [
    "#### （2）filter函数"
   ]
  },
  {
   "cell_type": "markdown",
   "id": "328e1167",
   "metadata": {},
   "source": [
    "filter(function, iterable)  \n",
    "filter()函数接受一个函数和一个可迭代对象作为参数，将函数应用于可迭代对象的每个元素，并返回一个包含满足条件的元素的迭代器。"
   ]
  },
  {
   "cell_type": "code",
   "execution_count": 68,
   "id": "ef7cd7ed",
   "metadata": {},
   "outputs": [
    {
     "name": "stdout",
     "output_type": "stream",
     "text": [
      "[2, 4]\n"
     ]
    }
   ],
   "source": [
    "# 过滤出列表中的偶数\n",
    "numbers = [1, 2, 3, 4, 5]\n",
    "result = filter(lambda x: x % 2 == 0, numbers)\n",
    "print(list(result)) "
   ]
  },
  {
   "cell_type": "markdown",
   "id": "3fc3a2ff",
   "metadata": {},
   "source": [
    "#### （3）sorted函数"
   ]
  },
  {
   "cell_type": "markdown",
   "id": "077e49cb",
   "metadata": {},
   "source": [
    "sorted(iterable, key=None, reverse=False)  \n",
    "sorted()函数接受一个可迭代对象作为参数，返回一个新的排好序的列表。可选参数key用于指定排序关键字函数，reverse用于指定是否降序排序。"
   ]
  },
  {
   "cell_type": "code",
   "execution_count": 69,
   "id": "0ec60521",
   "metadata": {},
   "outputs": [
    {
     "name": "stdout",
     "output_type": "stream",
     "text": [
      "['apple', 'banana', 'cherry', 'date']\n"
     ]
    }
   ],
   "source": [
    "# 列表中元素按首字母排序\n",
    "my_list = ['apple', 'date', 'cherry', 'banana']\n",
    "sorted_list = sorted(my_list, key=lambda x: x[0])\n",
    "print(sorted_list)"
   ]
  },
  {
   "cell_type": "markdown",
   "id": "8623f206",
   "metadata": {},
   "source": [
    "#### （4）更多迭代器类型"
   ]
  },
  {
   "cell_type": "markdown",
   "id": "415d0908",
   "metadata": {},
   "source": [
    "[相关网站](https://zhuanlan.zhihu.com/p/678475351)"
   ]
  },
  {
   "cell_type": "markdown",
   "id": "02f39afb",
   "metadata": {},
   "source": [
    "[相关网站]:(https://zhuanlan.zhihu.com/p/678475351)"
   ]
  }
 ],
 "metadata": {
  "kernelspec": {
   "display_name": "Python 3 (ipykernel)",
   "language": "python",
   "name": "python3"
  },
  "language_info": {
   "codemirror_mode": {
    "name": "ipython",
    "version": 3
   },
   "file_extension": ".py",
   "mimetype": "text/x-python",
   "name": "python",
   "nbconvert_exporter": "python",
   "pygments_lexer": "ipython3",
   "version": "3.10.13"
  }
 },
 "nbformat": 4,
 "nbformat_minor": 5
}
